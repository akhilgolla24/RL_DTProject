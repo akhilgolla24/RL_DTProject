{
  "nbformat": 4,
  "nbformat_minor": 0,
  "metadata": {
    "colab": {
      "provenance": []
    },
    "kernelspec": {
      "name": "python3",
      "display_name": "Python 3"
    },
    "language_info": {
      "name": "python"
    },
    "widgets": {
      "application/vnd.jupyter.widget-state+json": {
        "e612d1d9df03493196bbe08f7c7ebf87": {
          "model_module": "@jupyter-widgets/controls",
          "model_name": "HBoxModel",
          "model_module_version": "1.5.0",
          "state": {
            "_dom_classes": [],
            "_model_module": "@jupyter-widgets/controls",
            "_model_module_version": "1.5.0",
            "_model_name": "HBoxModel",
            "_view_count": null,
            "_view_module": "@jupyter-widgets/controls",
            "_view_module_version": "1.5.0",
            "_view_name": "HBoxView",
            "box_style": "",
            "children": [
              "IPY_MODEL_02cd036962cb4110b17ad958429741bd",
              "IPY_MODEL_a39b5c3430144c8bb0e1253f74d3ea62",
              "IPY_MODEL_3876d116b3e24c3db4356a61e6dac7ac"
            ],
            "layout": "IPY_MODEL_e258284119f84e76a7bdbb74f06ae6d9"
          }
        },
        "02cd036962cb4110b17ad958429741bd": {
          "model_module": "@jupyter-widgets/controls",
          "model_name": "HTMLModel",
          "model_module_version": "1.5.0",
          "state": {
            "_dom_classes": [],
            "_model_module": "@jupyter-widgets/controls",
            "_model_module_version": "1.5.0",
            "_model_name": "HTMLModel",
            "_view_count": null,
            "_view_module": "@jupyter-widgets/controls",
            "_view_module_version": "1.5.0",
            "_view_name": "HTMLView",
            "description": "",
            "description_tooltip": null,
            "layout": "IPY_MODEL_2838e639b9ac49b288f9e9f793df08a9",
            "placeholder": "​",
            "style": "IPY_MODEL_8023e96612db4cf18f5a14bbc0f4925f",
            "value": "Downloading data: 100%"
          }
        },
        "a39b5c3430144c8bb0e1253f74d3ea62": {
          "model_module": "@jupyter-widgets/controls",
          "model_name": "FloatProgressModel",
          "model_module_version": "1.5.0",
          "state": {
            "_dom_classes": [],
            "_model_module": "@jupyter-widgets/controls",
            "_model_module_version": "1.5.0",
            "_model_name": "FloatProgressModel",
            "_view_count": null,
            "_view_module": "@jupyter-widgets/controls",
            "_view_module_version": "1.5.0",
            "_view_name": "ProgressView",
            "bar_style": "success",
            "description": "",
            "description_tooltip": null,
            "layout": "IPY_MODEL_dcfe23e750c04285b74db31d73f500a9",
            "max": 98190117,
            "min": 0,
            "orientation": "horizontal",
            "style": "IPY_MODEL_320c2f1e89a84b65a6eeff0309431316",
            "value": 98190117
          }
        },
        "3876d116b3e24c3db4356a61e6dac7ac": {
          "model_module": "@jupyter-widgets/controls",
          "model_name": "HTMLModel",
          "model_module_version": "1.5.0",
          "state": {
            "_dom_classes": [],
            "_model_module": "@jupyter-widgets/controls",
            "_model_module_version": "1.5.0",
            "_model_name": "HTMLModel",
            "_view_count": null,
            "_view_module": "@jupyter-widgets/controls",
            "_view_module_version": "1.5.0",
            "_view_name": "HTMLView",
            "description": "",
            "description_tooltip": null,
            "layout": "IPY_MODEL_938f4bfa132740b09fd8fe78dadd6c58",
            "placeholder": "​",
            "style": "IPY_MODEL_168de5c50e1e4099b91a73e4906157ee",
            "value": " 98.2M/98.2M [00:02&lt;00:00, 50.1MB/s]"
          }
        },
        "e258284119f84e76a7bdbb74f06ae6d9": {
          "model_module": "@jupyter-widgets/base",
          "model_name": "LayoutModel",
          "model_module_version": "1.2.0",
          "state": {
            "_model_module": "@jupyter-widgets/base",
            "_model_module_version": "1.2.0",
            "_model_name": "LayoutModel",
            "_view_count": null,
            "_view_module": "@jupyter-widgets/base",
            "_view_module_version": "1.2.0",
            "_view_name": "LayoutView",
            "align_content": null,
            "align_items": null,
            "align_self": null,
            "border": null,
            "bottom": null,
            "display": null,
            "flex": null,
            "flex_flow": null,
            "grid_area": null,
            "grid_auto_columns": null,
            "grid_auto_flow": null,
            "grid_auto_rows": null,
            "grid_column": null,
            "grid_gap": null,
            "grid_row": null,
            "grid_template_areas": null,
            "grid_template_columns": null,
            "grid_template_rows": null,
            "height": null,
            "justify_content": null,
            "justify_items": null,
            "left": null,
            "margin": null,
            "max_height": null,
            "max_width": null,
            "min_height": null,
            "min_width": null,
            "object_fit": null,
            "object_position": null,
            "order": null,
            "overflow": null,
            "overflow_x": null,
            "overflow_y": null,
            "padding": null,
            "right": null,
            "top": null,
            "visibility": null,
            "width": null
          }
        },
        "2838e639b9ac49b288f9e9f793df08a9": {
          "model_module": "@jupyter-widgets/base",
          "model_name": "LayoutModel",
          "model_module_version": "1.2.0",
          "state": {
            "_model_module": "@jupyter-widgets/base",
            "_model_module_version": "1.2.0",
            "_model_name": "LayoutModel",
            "_view_count": null,
            "_view_module": "@jupyter-widgets/base",
            "_view_module_version": "1.2.0",
            "_view_name": "LayoutView",
            "align_content": null,
            "align_items": null,
            "align_self": null,
            "border": null,
            "bottom": null,
            "display": null,
            "flex": null,
            "flex_flow": null,
            "grid_area": null,
            "grid_auto_columns": null,
            "grid_auto_flow": null,
            "grid_auto_rows": null,
            "grid_column": null,
            "grid_gap": null,
            "grid_row": null,
            "grid_template_areas": null,
            "grid_template_columns": null,
            "grid_template_rows": null,
            "height": null,
            "justify_content": null,
            "justify_items": null,
            "left": null,
            "margin": null,
            "max_height": null,
            "max_width": null,
            "min_height": null,
            "min_width": null,
            "object_fit": null,
            "object_position": null,
            "order": null,
            "overflow": null,
            "overflow_x": null,
            "overflow_y": null,
            "padding": null,
            "right": null,
            "top": null,
            "visibility": null,
            "width": null
          }
        },
        "8023e96612db4cf18f5a14bbc0f4925f": {
          "model_module": "@jupyter-widgets/controls",
          "model_name": "DescriptionStyleModel",
          "model_module_version": "1.5.0",
          "state": {
            "_model_module": "@jupyter-widgets/controls",
            "_model_module_version": "1.5.0",
            "_model_name": "DescriptionStyleModel",
            "_view_count": null,
            "_view_module": "@jupyter-widgets/base",
            "_view_module_version": "1.2.0",
            "_view_name": "StyleView",
            "description_width": ""
          }
        },
        "dcfe23e750c04285b74db31d73f500a9": {
          "model_module": "@jupyter-widgets/base",
          "model_name": "LayoutModel",
          "model_module_version": "1.2.0",
          "state": {
            "_model_module": "@jupyter-widgets/base",
            "_model_module_version": "1.2.0",
            "_model_name": "LayoutModel",
            "_view_count": null,
            "_view_module": "@jupyter-widgets/base",
            "_view_module_version": "1.2.0",
            "_view_name": "LayoutView",
            "align_content": null,
            "align_items": null,
            "align_self": null,
            "border": null,
            "bottom": null,
            "display": null,
            "flex": null,
            "flex_flow": null,
            "grid_area": null,
            "grid_auto_columns": null,
            "grid_auto_flow": null,
            "grid_auto_rows": null,
            "grid_column": null,
            "grid_gap": null,
            "grid_row": null,
            "grid_template_areas": null,
            "grid_template_columns": null,
            "grid_template_rows": null,
            "height": null,
            "justify_content": null,
            "justify_items": null,
            "left": null,
            "margin": null,
            "max_height": null,
            "max_width": null,
            "min_height": null,
            "min_width": null,
            "object_fit": null,
            "object_position": null,
            "order": null,
            "overflow": null,
            "overflow_x": null,
            "overflow_y": null,
            "padding": null,
            "right": null,
            "top": null,
            "visibility": null,
            "width": null
          }
        },
        "320c2f1e89a84b65a6eeff0309431316": {
          "model_module": "@jupyter-widgets/controls",
          "model_name": "ProgressStyleModel",
          "model_module_version": "1.5.0",
          "state": {
            "_model_module": "@jupyter-widgets/controls",
            "_model_module_version": "1.5.0",
            "_model_name": "ProgressStyleModel",
            "_view_count": null,
            "_view_module": "@jupyter-widgets/base",
            "_view_module_version": "1.2.0",
            "_view_name": "StyleView",
            "bar_color": null,
            "description_width": ""
          }
        },
        "938f4bfa132740b09fd8fe78dadd6c58": {
          "model_module": "@jupyter-widgets/base",
          "model_name": "LayoutModel",
          "model_module_version": "1.2.0",
          "state": {
            "_model_module": "@jupyter-widgets/base",
            "_model_module_version": "1.2.0",
            "_model_name": "LayoutModel",
            "_view_count": null,
            "_view_module": "@jupyter-widgets/base",
            "_view_module_version": "1.2.0",
            "_view_name": "LayoutView",
            "align_content": null,
            "align_items": null,
            "align_self": null,
            "border": null,
            "bottom": null,
            "display": null,
            "flex": null,
            "flex_flow": null,
            "grid_area": null,
            "grid_auto_columns": null,
            "grid_auto_flow": null,
            "grid_auto_rows": null,
            "grid_column": null,
            "grid_gap": null,
            "grid_row": null,
            "grid_template_areas": null,
            "grid_template_columns": null,
            "grid_template_rows": null,
            "height": null,
            "justify_content": null,
            "justify_items": null,
            "left": null,
            "margin": null,
            "max_height": null,
            "max_width": null,
            "min_height": null,
            "min_width": null,
            "object_fit": null,
            "object_position": null,
            "order": null,
            "overflow": null,
            "overflow_x": null,
            "overflow_y": null,
            "padding": null,
            "right": null,
            "top": null,
            "visibility": null,
            "width": null
          }
        },
        "168de5c50e1e4099b91a73e4906157ee": {
          "model_module": "@jupyter-widgets/controls",
          "model_name": "DescriptionStyleModel",
          "model_module_version": "1.5.0",
          "state": {
            "_model_module": "@jupyter-widgets/controls",
            "_model_module_version": "1.5.0",
            "_model_name": "DescriptionStyleModel",
            "_view_count": null,
            "_view_module": "@jupyter-widgets/base",
            "_view_module_version": "1.2.0",
            "_view_name": "StyleView",
            "description_width": ""
          }
        },
        "be638b27574d4cb1b03ad141407f17a0": {
          "model_module": "@jupyter-widgets/controls",
          "model_name": "HBoxModel",
          "model_module_version": "1.5.0",
          "state": {
            "_dom_classes": [],
            "_model_module": "@jupyter-widgets/controls",
            "_model_module_version": "1.5.0",
            "_model_name": "HBoxModel",
            "_view_count": null,
            "_view_module": "@jupyter-widgets/controls",
            "_view_module_version": "1.5.0",
            "_view_name": "HBoxView",
            "box_style": "",
            "children": [
              "IPY_MODEL_9f34bb9e0c564db4aeae7b006465d916",
              "IPY_MODEL_671f4408e9ee4c90b25eb3a5a370cd2c",
              "IPY_MODEL_3c7a5300b9d74fe1a309fa045e6d394e"
            ],
            "layout": "IPY_MODEL_f94b5773c07c48719d4848b1e8115224"
          }
        },
        "9f34bb9e0c564db4aeae7b006465d916": {
          "model_module": "@jupyter-widgets/controls",
          "model_name": "HTMLModel",
          "model_module_version": "1.5.0",
          "state": {
            "_dom_classes": [],
            "_model_module": "@jupyter-widgets/controls",
            "_model_module_version": "1.5.0",
            "_model_name": "HTMLModel",
            "_view_count": null,
            "_view_module": "@jupyter-widgets/controls",
            "_view_module_version": "1.5.0",
            "_view_name": "HTMLView",
            "description": "",
            "description_tooltip": null,
            "layout": "IPY_MODEL_67e9ca503d834baa9ffb290970b74144",
            "placeholder": "​",
            "style": "IPY_MODEL_66d09ed653f941ff88d99534672c93df",
            "value": "Generating train split: 100%"
          }
        },
        "671f4408e9ee4c90b25eb3a5a370cd2c": {
          "model_module": "@jupyter-widgets/controls",
          "model_name": "FloatProgressModel",
          "model_module_version": "1.5.0",
          "state": {
            "_dom_classes": [],
            "_model_module": "@jupyter-widgets/controls",
            "_model_module_version": "1.5.0",
            "_model_name": "FloatProgressModel",
            "_view_count": null,
            "_view_module": "@jupyter-widgets/controls",
            "_view_module_version": "1.5.0",
            "_view_name": "ProgressView",
            "bar_style": "success",
            "description": "",
            "description_tooltip": null,
            "layout": "IPY_MODEL_47397dde36a342bcbdec633b549e772d",
            "max": 1000,
            "min": 0,
            "orientation": "horizontal",
            "style": "IPY_MODEL_f0a1b2802d08419b92332b5a789178a7",
            "value": 1000
          }
        },
        "3c7a5300b9d74fe1a309fa045e6d394e": {
          "model_module": "@jupyter-widgets/controls",
          "model_name": "HTMLModel",
          "model_module_version": "1.5.0",
          "state": {
            "_dom_classes": [],
            "_model_module": "@jupyter-widgets/controls",
            "_model_module_version": "1.5.0",
            "_model_name": "HTMLModel",
            "_view_count": null,
            "_view_module": "@jupyter-widgets/controls",
            "_view_module_version": "1.5.0",
            "_view_name": "HTMLView",
            "description": "",
            "description_tooltip": null,
            "layout": "IPY_MODEL_4e8ce3074e304609aea3a1cdbccb11fc",
            "placeholder": "​",
            "style": "IPY_MODEL_c652a7a1eec84458a63936ac5da95751",
            "value": " 1000/1000 [00:01&lt;00:00, 814.36 examples/s]"
          }
        },
        "f94b5773c07c48719d4848b1e8115224": {
          "model_module": "@jupyter-widgets/base",
          "model_name": "LayoutModel",
          "model_module_version": "1.2.0",
          "state": {
            "_model_module": "@jupyter-widgets/base",
            "_model_module_version": "1.2.0",
            "_model_name": "LayoutModel",
            "_view_count": null,
            "_view_module": "@jupyter-widgets/base",
            "_view_module_version": "1.2.0",
            "_view_name": "LayoutView",
            "align_content": null,
            "align_items": null,
            "align_self": null,
            "border": null,
            "bottom": null,
            "display": null,
            "flex": null,
            "flex_flow": null,
            "grid_area": null,
            "grid_auto_columns": null,
            "grid_auto_flow": null,
            "grid_auto_rows": null,
            "grid_column": null,
            "grid_gap": null,
            "grid_row": null,
            "grid_template_areas": null,
            "grid_template_columns": null,
            "grid_template_rows": null,
            "height": null,
            "justify_content": null,
            "justify_items": null,
            "left": null,
            "margin": null,
            "max_height": null,
            "max_width": null,
            "min_height": null,
            "min_width": null,
            "object_fit": null,
            "object_position": null,
            "order": null,
            "overflow": null,
            "overflow_x": null,
            "overflow_y": null,
            "padding": null,
            "right": null,
            "top": null,
            "visibility": null,
            "width": null
          }
        },
        "67e9ca503d834baa9ffb290970b74144": {
          "model_module": "@jupyter-widgets/base",
          "model_name": "LayoutModel",
          "model_module_version": "1.2.0",
          "state": {
            "_model_module": "@jupyter-widgets/base",
            "_model_module_version": "1.2.0",
            "_model_name": "LayoutModel",
            "_view_count": null,
            "_view_module": "@jupyter-widgets/base",
            "_view_module_version": "1.2.0",
            "_view_name": "LayoutView",
            "align_content": null,
            "align_items": null,
            "align_self": null,
            "border": null,
            "bottom": null,
            "display": null,
            "flex": null,
            "flex_flow": null,
            "grid_area": null,
            "grid_auto_columns": null,
            "grid_auto_flow": null,
            "grid_auto_rows": null,
            "grid_column": null,
            "grid_gap": null,
            "grid_row": null,
            "grid_template_areas": null,
            "grid_template_columns": null,
            "grid_template_rows": null,
            "height": null,
            "justify_content": null,
            "justify_items": null,
            "left": null,
            "margin": null,
            "max_height": null,
            "max_width": null,
            "min_height": null,
            "min_width": null,
            "object_fit": null,
            "object_position": null,
            "order": null,
            "overflow": null,
            "overflow_x": null,
            "overflow_y": null,
            "padding": null,
            "right": null,
            "top": null,
            "visibility": null,
            "width": null
          }
        },
        "66d09ed653f941ff88d99534672c93df": {
          "model_module": "@jupyter-widgets/controls",
          "model_name": "DescriptionStyleModel",
          "model_module_version": "1.5.0",
          "state": {
            "_model_module": "@jupyter-widgets/controls",
            "_model_module_version": "1.5.0",
            "_model_name": "DescriptionStyleModel",
            "_view_count": null,
            "_view_module": "@jupyter-widgets/base",
            "_view_module_version": "1.2.0",
            "_view_name": "StyleView",
            "description_width": ""
          }
        },
        "47397dde36a342bcbdec633b549e772d": {
          "model_module": "@jupyter-widgets/base",
          "model_name": "LayoutModel",
          "model_module_version": "1.2.0",
          "state": {
            "_model_module": "@jupyter-widgets/base",
            "_model_module_version": "1.2.0",
            "_model_name": "LayoutModel",
            "_view_count": null,
            "_view_module": "@jupyter-widgets/base",
            "_view_module_version": "1.2.0",
            "_view_name": "LayoutView",
            "align_content": null,
            "align_items": null,
            "align_self": null,
            "border": null,
            "bottom": null,
            "display": null,
            "flex": null,
            "flex_flow": null,
            "grid_area": null,
            "grid_auto_columns": null,
            "grid_auto_flow": null,
            "grid_auto_rows": null,
            "grid_column": null,
            "grid_gap": null,
            "grid_row": null,
            "grid_template_areas": null,
            "grid_template_columns": null,
            "grid_template_rows": null,
            "height": null,
            "justify_content": null,
            "justify_items": null,
            "left": null,
            "margin": null,
            "max_height": null,
            "max_width": null,
            "min_height": null,
            "min_width": null,
            "object_fit": null,
            "object_position": null,
            "order": null,
            "overflow": null,
            "overflow_x": null,
            "overflow_y": null,
            "padding": null,
            "right": null,
            "top": null,
            "visibility": null,
            "width": null
          }
        },
        "f0a1b2802d08419b92332b5a789178a7": {
          "model_module": "@jupyter-widgets/controls",
          "model_name": "ProgressStyleModel",
          "model_module_version": "1.5.0",
          "state": {
            "_model_module": "@jupyter-widgets/controls",
            "_model_module_version": "1.5.0",
            "_model_name": "ProgressStyleModel",
            "_view_count": null,
            "_view_module": "@jupyter-widgets/base",
            "_view_module_version": "1.2.0",
            "_view_name": "StyleView",
            "bar_color": null,
            "description_width": ""
          }
        },
        "4e8ce3074e304609aea3a1cdbccb11fc": {
          "model_module": "@jupyter-widgets/base",
          "model_name": "LayoutModel",
          "model_module_version": "1.2.0",
          "state": {
            "_model_module": "@jupyter-widgets/base",
            "_model_module_version": "1.2.0",
            "_model_name": "LayoutModel",
            "_view_count": null,
            "_view_module": "@jupyter-widgets/base",
            "_view_module_version": "1.2.0",
            "_view_name": "LayoutView",
            "align_content": null,
            "align_items": null,
            "align_self": null,
            "border": null,
            "bottom": null,
            "display": null,
            "flex": null,
            "flex_flow": null,
            "grid_area": null,
            "grid_auto_columns": null,
            "grid_auto_flow": null,
            "grid_auto_rows": null,
            "grid_column": null,
            "grid_gap": null,
            "grid_row": null,
            "grid_template_areas": null,
            "grid_template_columns": null,
            "grid_template_rows": null,
            "height": null,
            "justify_content": null,
            "justify_items": null,
            "left": null,
            "margin": null,
            "max_height": null,
            "max_width": null,
            "min_height": null,
            "min_width": null,
            "object_fit": null,
            "object_position": null,
            "order": null,
            "overflow": null,
            "overflow_x": null,
            "overflow_y": null,
            "padding": null,
            "right": null,
            "top": null,
            "visibility": null,
            "width": null
          }
        },
        "c652a7a1eec84458a63936ac5da95751": {
          "model_module": "@jupyter-widgets/controls",
          "model_name": "DescriptionStyleModel",
          "model_module_version": "1.5.0",
          "state": {
            "_model_module": "@jupyter-widgets/controls",
            "_model_module_version": "1.5.0",
            "_model_name": "DescriptionStyleModel",
            "_view_count": null,
            "_view_module": "@jupyter-widgets/base",
            "_view_module_version": "1.2.0",
            "_view_name": "StyleView",
            "description_width": ""
          }
        }
      }
    }
  },
  "cells": [
    {
      "cell_type": "markdown",
      "source": [
        "RL Final Project Code\n",
        "\n",
        "\n",
        "Akhil Golla, ag4812"
      ],
      "metadata": {
        "id": "3E_hBmmpaWmh"
      }
    },
    {
      "cell_type": "markdown",
      "source": [
        "Goals of this project:\n",
        "\n",
        "Test Decision Transformers using GPT2 Models of different sizes\n",
        "\n",
        "Test Decision Transformers using other Transformer Models\n",
        "\n",
        "See how the performance compares to other methods for mujoco dataset"
      ],
      "metadata": {
        "id": "ApslY6faac_3"
      }
    },
    {
      "cell_type": "code",
      "source": [
        "#Include this at the top of your colab code\n",
        "import os\n",
        "if not os.path.exists('.mujoco_setup_complete'):\n",
        "  # Get the prereqs\n",
        "  !apt-get -qq update\n",
        "  !apt-get -qq install -y libosmesa6-dev libgl1-mesa-glx libglfw3 libgl1-mesa-dev libglew-dev patchelf\n",
        "  # Get Mujoco\n",
        "  !mkdir ~/.mujoco\n",
        "  !wget -q https://mujoco.org/download/mujoco210-linux-x86_64.tar.gz -O mujoco.tar.gz\n",
        "  !tar -zxf mujoco.tar.gz -C \"$HOME/.mujoco\"\n",
        "  !rm mujoco.tar.gz\n",
        "  # Add it to the actively loaded path and the bashrc path (these only do so much)\n",
        "  !echo 'export LD_LIBRARY_PATH=$LD_LIBRARY_PATH:$HOME/.mujoco/mujoco210/bin' >> ~/.bashrc\n",
        "  !echo 'export LD_PRELOAD=$LD_PRELOAD:/usr/lib/x86_64-linux-gnu/libGLEW.so' >> ~/.bashrc\n",
        "  # THE ANNOYING ONE, FORCE IT INTO LDCONFIG SO WE ACTUALLY GET ACCESS TO IT THIS SESSION\n",
        "  !echo \"/root/.mujoco/mujoco210/bin\" > /etc/ld.so.conf.d/mujoco_ld_lib_path.conf\n",
        "  !ldconfig\n",
        "  # Install Mujoco-py\n",
        "  !pip3 install -U 'mujoco-py<2.2,>=2.1'\n",
        "  # run once\n",
        "  !touch .mujoco_setup_complete\n",
        "\n",
        "try:\n",
        "  if _mujoco_run_once:\n",
        "    pass\n",
        "except NameError:\n",
        "  _mujoco_run_once = False\n",
        "if not _mujoco_run_once:\n",
        "  # Add it to the actively loaded path and the bashrc path (these only do so much)\n",
        "  try:\n",
        "    os.environ['LD_LIBRARY_PATH']=os.environ['LD_LIBRARY_PATH'] + ':/root/.mujoco/mujoco210/bin'\n",
        "  except KeyError:\n",
        "    os.environ['LD_LIBRARY_PATH']='/root/.mujoco/mujoco210/bin'\n",
        "  try:\n",
        "    os.environ['LD_PRELOAD']=os.environ['LD_PRELOAD'] + ':/usr/lib/x86_64-linux-gnu/libGLEW.so'\n",
        "  except KeyError:\n",
        "    os.environ['LD_PRELOAD']='/usr/lib/x86_64-linux-gnu/libGLEW.so'\n",
        "  # presetup so we don't see output on first env initialization\n",
        "  import mujoco_py\n",
        "  _mujoco_run_once = True"
      ],
      "metadata": {
        "colab": {
          "base_uri": "https://localhost:8080/",
          "height": 1000
        },
        "id": "djTIOWUXxe5d",
        "outputId": "0a173e6b-9c12-4da7-edd0-3502bd750252"
      },
      "execution_count": 5,
      "outputs": [
        {
          "output_type": "stream",
          "name": "stdout",
          "text": [
            "Compiling /usr/local/lib/python3.10/dist-packages/mujoco_py/cymj.pyx because it changed.\n",
            "[1/1] Cythonizing /usr/local/lib/python3.10/dist-packages/mujoco_py/cymj.pyx\n"
          ]
        },
        {
          "output_type": "stream",
          "name": "stderr",
          "text": [
            "performance hint: /usr/local/lib/python3.10/dist-packages/mujoco_py/cymj.pyx:67:5: Exception check on 'c_warning_callback' will always require the GIL to be acquired.\n",
            "Possible solutions:\n",
            "\t1. Declare 'c_warning_callback' as 'noexcept' if you control the definition and you're sure you don't want the function to raise exceptions.\n",
            "\t2. Use an 'int' return type on 'c_warning_callback' to allow an error code to be returned.\n",
            "performance hint: /usr/local/lib/python3.10/dist-packages/mujoco_py/cymj.pyx:104:5: Exception check on 'c_error_callback' will always require the GIL to be acquired.\n",
            "Possible solutions:\n",
            "\t1. Declare 'c_error_callback' as 'noexcept' if you control the definition and you're sure you don't want the function to raise exceptions.\n",
            "\t2. Use an 'int' return type on 'c_error_callback' to allow an error code to be returned.\n",
            "\n",
            "Error compiling Cython file:\n",
            "------------------------------------------------------------\n",
            "...\n",
            "    See c_warning_callback, which is the C wrapper to the user defined function\n",
            "    '''\n",
            "    global py_warning_callback\n",
            "    global mju_user_warning\n",
            "    py_warning_callback = warn\n",
            "    mju_user_warning = c_warning_callback\n",
            "                       ^\n",
            "------------------------------------------------------------\n",
            "\n",
            "/usr/local/lib/python3.10/dist-packages/mujoco_py/cymj.pyx:92:23: Cannot assign type 'void (const char *) except * nogil' to 'void (*)(const char *) noexcept nogil'. Exception values are incompatible. Suggest adding 'noexcept' to the type of 'c_warning_callback'.\n",
            "\n",
            "Error compiling Cython file:\n",
            "------------------------------------------------------------\n",
            "...\n",
            "    See c_warning_callback, which is the C wrapper to the user defined function\n",
            "    '''\n",
            "    global py_error_callback\n",
            "    global mju_user_error\n",
            "    py_error_callback = err_callback\n",
            "    mju_user_error = c_error_callback\n",
            "                     ^\n",
            "------------------------------------------------------------\n",
            "\n",
            "/usr/local/lib/python3.10/dist-packages/mujoco_py/cymj.pyx:127:21: Cannot assign type 'void (const char *) except * nogil' to 'void (*)(const char *) noexcept nogil'. Exception values are incompatible. Suggest adding 'noexcept' to the type of 'c_error_callback'.\n"
          ]
        },
        {
          "output_type": "error",
          "ename": "CompileError",
          "evalue": "/usr/local/lib/python3.10/dist-packages/mujoco_py/cymj.pyx",
          "traceback": [
            "\u001b[0;31m---------------------------------------------------------------------------\u001b[0m",
            "\u001b[0;31mCompileError\u001b[0m                              Traceback (most recent call last)",
            "\u001b[0;32m<ipython-input-5-2ba359a09003>\u001b[0m in \u001b[0;36m<cell line: 28>\u001b[0;34m()\u001b[0m\n\u001b[1;32m     37\u001b[0m     \u001b[0mos\u001b[0m\u001b[0;34m.\u001b[0m\u001b[0menviron\u001b[0m\u001b[0;34m[\u001b[0m\u001b[0;34m'LD_PRELOAD'\u001b[0m\u001b[0;34m]\u001b[0m\u001b[0;34m=\u001b[0m\u001b[0;34m'/usr/lib/x86_64-linux-gnu/libGLEW.so'\u001b[0m\u001b[0;34m\u001b[0m\u001b[0;34m\u001b[0m\u001b[0m\n\u001b[1;32m     38\u001b[0m   \u001b[0;31m# presetup so we don't see output on first env initialization\u001b[0m\u001b[0;34m\u001b[0m\u001b[0;34m\u001b[0m\u001b[0m\n\u001b[0;32m---> 39\u001b[0;31m   \u001b[0;32mimport\u001b[0m \u001b[0mmujoco_py\u001b[0m\u001b[0;34m\u001b[0m\u001b[0;34m\u001b[0m\u001b[0m\n\u001b[0m\u001b[1;32m     40\u001b[0m   \u001b[0m_mujoco_run_once\u001b[0m \u001b[0;34m=\u001b[0m \u001b[0;32mTrue\u001b[0m\u001b[0;34m\u001b[0m\u001b[0;34m\u001b[0m\u001b[0m\n",
            "\u001b[0;32m/usr/local/lib/python3.10/dist-packages/mujoco_py/__init__.py\u001b[0m in \u001b[0;36m<module>\u001b[0;34m\u001b[0m\n\u001b[1;32m      1\u001b[0m \u001b[0;31m#!/usr/bin/env python\u001b[0m\u001b[0;34m\u001b[0m\u001b[0;34m\u001b[0m\u001b[0m\n\u001b[0;32m----> 2\u001b[0;31m \u001b[0;32mfrom\u001b[0m \u001b[0mmujoco_py\u001b[0m\u001b[0;34m.\u001b[0m\u001b[0mbuilder\u001b[0m \u001b[0;32mimport\u001b[0m \u001b[0mcymj\u001b[0m\u001b[0;34m,\u001b[0m \u001b[0mignore_mujoco_warnings\u001b[0m\u001b[0;34m,\u001b[0m \u001b[0mfunctions\u001b[0m\u001b[0;34m,\u001b[0m \u001b[0mMujocoException\u001b[0m\u001b[0;34m\u001b[0m\u001b[0;34m\u001b[0m\u001b[0m\n\u001b[0m\u001b[1;32m      3\u001b[0m \u001b[0;32mfrom\u001b[0m \u001b[0mmujoco_py\u001b[0m\u001b[0;34m.\u001b[0m\u001b[0mgenerated\u001b[0m \u001b[0;32mimport\u001b[0m \u001b[0mconst\u001b[0m\u001b[0;34m\u001b[0m\u001b[0;34m\u001b[0m\u001b[0m\n\u001b[1;32m      4\u001b[0m \u001b[0;32mfrom\u001b[0m \u001b[0mmujoco_py\u001b[0m\u001b[0;34m.\u001b[0m\u001b[0mmjrenderpool\u001b[0m \u001b[0;32mimport\u001b[0m \u001b[0mMjRenderPool\u001b[0m\u001b[0;34m\u001b[0m\u001b[0;34m\u001b[0m\u001b[0m\n\u001b[1;32m      5\u001b[0m \u001b[0;32mfrom\u001b[0m \u001b[0mmujoco_py\u001b[0m\u001b[0;34m.\u001b[0m\u001b[0mmjviewer\u001b[0m \u001b[0;32mimport\u001b[0m \u001b[0mMjViewer\u001b[0m\u001b[0;34m,\u001b[0m \u001b[0mMjViewerBasic\u001b[0m\u001b[0;34m\u001b[0m\u001b[0;34m\u001b[0m\u001b[0m\n",
            "\u001b[0;32m/usr/local/lib/python3.10/dist-packages/mujoco_py/builder.py\u001b[0m in \u001b[0;36m<module>\u001b[0;34m\u001b[0m\n\u001b[1;32m    502\u001b[0m \u001b[0;34m\u001b[0m\u001b[0m\n\u001b[1;32m    503\u001b[0m \u001b[0mmujoco_path\u001b[0m \u001b[0;34m=\u001b[0m \u001b[0mdiscover_mujoco\u001b[0m\u001b[0;34m(\u001b[0m\u001b[0;34m)\u001b[0m\u001b[0;34m\u001b[0m\u001b[0;34m\u001b[0m\u001b[0m\n\u001b[0;32m--> 504\u001b[0;31m \u001b[0mcymj\u001b[0m \u001b[0;34m=\u001b[0m \u001b[0mload_cython_ext\u001b[0m\u001b[0;34m(\u001b[0m\u001b[0mmujoco_path\u001b[0m\u001b[0;34m)\u001b[0m\u001b[0;34m\u001b[0m\u001b[0;34m\u001b[0m\u001b[0m\n\u001b[0m\u001b[1;32m    505\u001b[0m \u001b[0;34m\u001b[0m\u001b[0m\n\u001b[1;32m    506\u001b[0m \u001b[0;34m\u001b[0m\u001b[0m\n",
            "\u001b[0;32m/usr/local/lib/python3.10/dist-packages/mujoco_py/builder.py\u001b[0m in \u001b[0;36mload_cython_ext\u001b[0;34m(mujoco_path)\u001b[0m\n\u001b[1;32m    108\u001b[0m                 \u001b[0mprint\u001b[0m\u001b[0;34m(\u001b[0m\u001b[0;34m\"Import error. Trying to rebuild mujoco_py.\"\u001b[0m\u001b[0;34m)\u001b[0m\u001b[0;34m\u001b[0m\u001b[0;34m\u001b[0m\u001b[0m\n\u001b[1;32m    109\u001b[0m         \u001b[0;32mif\u001b[0m \u001b[0mmod\u001b[0m \u001b[0;32mis\u001b[0m \u001b[0;32mNone\u001b[0m\u001b[0;34m:\u001b[0m\u001b[0;34m\u001b[0m\u001b[0;34m\u001b[0m\u001b[0m\n\u001b[0;32m--> 110\u001b[0;31m             \u001b[0mcext_so_path\u001b[0m \u001b[0;34m=\u001b[0m \u001b[0mbuilder\u001b[0m\u001b[0;34m.\u001b[0m\u001b[0mbuild\u001b[0m\u001b[0;34m(\u001b[0m\u001b[0;34m)\u001b[0m\u001b[0;34m\u001b[0m\u001b[0;34m\u001b[0m\u001b[0m\n\u001b[0m\u001b[1;32m    111\u001b[0m             \u001b[0mmod\u001b[0m \u001b[0;34m=\u001b[0m \u001b[0mload_dynamic_ext\u001b[0m\u001b[0;34m(\u001b[0m\u001b[0;34m'cymj'\u001b[0m\u001b[0;34m,\u001b[0m \u001b[0mcext_so_path\u001b[0m\u001b[0;34m)\u001b[0m\u001b[0;34m\u001b[0m\u001b[0;34m\u001b[0m\u001b[0m\n\u001b[1;32m    112\u001b[0m \u001b[0;34m\u001b[0m\u001b[0m\n",
            "\u001b[0;32m/usr/local/lib/python3.10/dist-packages/mujoco_py/builder.py\u001b[0m in \u001b[0;36mbuild\u001b[0;34m(self)\u001b[0m\n\u001b[1;32m    224\u001b[0m \u001b[0;34m\u001b[0m\u001b[0m\n\u001b[1;32m    225\u001b[0m     \u001b[0;32mdef\u001b[0m \u001b[0mbuild\u001b[0m\u001b[0;34m(\u001b[0m\u001b[0mself\u001b[0m\u001b[0;34m)\u001b[0m\u001b[0;34m:\u001b[0m\u001b[0;34m\u001b[0m\u001b[0;34m\u001b[0m\u001b[0m\n\u001b[0;32m--> 226\u001b[0;31m         \u001b[0mbuilt_so_file_path\u001b[0m \u001b[0;34m=\u001b[0m \u001b[0mself\u001b[0m\u001b[0;34m.\u001b[0m\u001b[0m_build_impl\u001b[0m\u001b[0;34m(\u001b[0m\u001b[0;34m)\u001b[0m\u001b[0;34m\u001b[0m\u001b[0;34m\u001b[0m\u001b[0m\n\u001b[0m\u001b[1;32m    227\u001b[0m         \u001b[0mnew_so_file_path\u001b[0m \u001b[0;34m=\u001b[0m \u001b[0mself\u001b[0m\u001b[0;34m.\u001b[0m\u001b[0mget_so_file_path\u001b[0m\u001b[0;34m(\u001b[0m\u001b[0;34m)\u001b[0m\u001b[0;34m\u001b[0m\u001b[0;34m\u001b[0m\u001b[0m\n\u001b[1;32m    228\u001b[0m         \u001b[0mmove\u001b[0m\u001b[0;34m(\u001b[0m\u001b[0mbuilt_so_file_path\u001b[0m\u001b[0;34m,\u001b[0m \u001b[0mnew_so_file_path\u001b[0m\u001b[0;34m)\u001b[0m\u001b[0;34m\u001b[0m\u001b[0;34m\u001b[0m\u001b[0m\n",
            "\u001b[0;32m/usr/local/lib/python3.10/dist-packages/mujoco_py/builder.py\u001b[0m in \u001b[0;36m_build_impl\u001b[0;34m(self)\u001b[0m\n\u001b[1;32m    276\u001b[0m \u001b[0;34m\u001b[0m\u001b[0m\n\u001b[1;32m    277\u001b[0m     \u001b[0;32mdef\u001b[0m \u001b[0m_build_impl\u001b[0m\u001b[0;34m(\u001b[0m\u001b[0mself\u001b[0m\u001b[0;34m)\u001b[0m\u001b[0;34m:\u001b[0m\u001b[0;34m\u001b[0m\u001b[0;34m\u001b[0m\u001b[0m\n\u001b[0;32m--> 278\u001b[0;31m         \u001b[0mso_file_path\u001b[0m \u001b[0;34m=\u001b[0m \u001b[0msuper\u001b[0m\u001b[0;34m(\u001b[0m\u001b[0;34m)\u001b[0m\u001b[0;34m.\u001b[0m\u001b[0m_build_impl\u001b[0m\u001b[0;34m(\u001b[0m\u001b[0;34m)\u001b[0m\u001b[0;34m\u001b[0m\u001b[0;34m\u001b[0m\u001b[0m\n\u001b[0m\u001b[1;32m    279\u001b[0m         \u001b[0;31m# Removes absolute paths to libraries. Allows for dynamic loading.\u001b[0m\u001b[0;34m\u001b[0m\u001b[0;34m\u001b[0m\u001b[0m\n\u001b[1;32m    280\u001b[0m         \u001b[0mfix_shared_library\u001b[0m\u001b[0;34m(\u001b[0m\u001b[0mso_file_path\u001b[0m\u001b[0;34m,\u001b[0m \u001b[0;34m'libmujoco210.so'\u001b[0m\u001b[0;34m,\u001b[0m \u001b[0;34m'libmujoco210.so'\u001b[0m\u001b[0;34m)\u001b[0m\u001b[0;34m\u001b[0m\u001b[0;34m\u001b[0m\u001b[0m\n",
            "\u001b[0;32m/usr/local/lib/python3.10/dist-packages/mujoco_py/builder.py\u001b[0m in \u001b[0;36m_build_impl\u001b[0;34m(self)\u001b[0m\n\u001b[1;32m    237\u001b[0m             \u001b[0;34m\"script_args\"\u001b[0m\u001b[0;34m:\u001b[0m \u001b[0;34m[\u001b[0m\u001b[0;34m\"build_ext\"\u001b[0m\u001b[0;34m]\u001b[0m\u001b[0;34m\u001b[0m\u001b[0;34m\u001b[0m\u001b[0m\n\u001b[1;32m    238\u001b[0m         })\n\u001b[0;32m--> 239\u001b[0;31m         \u001b[0mdist\u001b[0m\u001b[0;34m.\u001b[0m\u001b[0mext_modules\u001b[0m \u001b[0;34m=\u001b[0m \u001b[0mcythonize\u001b[0m\u001b[0;34m(\u001b[0m\u001b[0;34m[\u001b[0m\u001b[0mself\u001b[0m\u001b[0;34m.\u001b[0m\u001b[0mextension\u001b[0m\u001b[0;34m]\u001b[0m\u001b[0;34m)\u001b[0m\u001b[0;34m\u001b[0m\u001b[0;34m\u001b[0m\u001b[0m\n\u001b[0m\u001b[1;32m    240\u001b[0m         \u001b[0mdist\u001b[0m\u001b[0;34m.\u001b[0m\u001b[0minclude_dirs\u001b[0m \u001b[0;34m=\u001b[0m \u001b[0;34m[\u001b[0m\u001b[0;34m]\u001b[0m\u001b[0;34m\u001b[0m\u001b[0;34m\u001b[0m\u001b[0m\n\u001b[1;32m    241\u001b[0m         \u001b[0mdist\u001b[0m\u001b[0;34m.\u001b[0m\u001b[0mcmdclass\u001b[0m \u001b[0;34m=\u001b[0m \u001b[0;34m{\u001b[0m\u001b[0;34m'build_ext'\u001b[0m\u001b[0;34m:\u001b[0m \u001b[0mcustom_build_ext\u001b[0m\u001b[0;34m}\u001b[0m\u001b[0;34m\u001b[0m\u001b[0;34m\u001b[0m\u001b[0m\n",
            "\u001b[0;32m/usr/local/lib/python3.10/dist-packages/Cython/Build/Dependencies.py\u001b[0m in \u001b[0;36mcythonize\u001b[0;34m(module_list, exclude, nthreads, aliases, quiet, force, language, exclude_failures, show_all_warnings, **options)\u001b[0m\n\u001b[1;32m   1152\u001b[0m     \u001b[0;32melse\u001b[0m\u001b[0;34m:\u001b[0m\u001b[0;34m\u001b[0m\u001b[0;34m\u001b[0m\u001b[0m\n\u001b[1;32m   1153\u001b[0m         \u001b[0;32mfor\u001b[0m \u001b[0margs\u001b[0m \u001b[0;32min\u001b[0m \u001b[0mto_compile\u001b[0m\u001b[0;34m:\u001b[0m\u001b[0;34m\u001b[0m\u001b[0;34m\u001b[0m\u001b[0m\n\u001b[0;32m-> 1154\u001b[0;31m             \u001b[0mcythonize_one\u001b[0m\u001b[0;34m(\u001b[0m\u001b[0;34m*\u001b[0m\u001b[0margs\u001b[0m\u001b[0;34m)\u001b[0m\u001b[0;34m\u001b[0m\u001b[0;34m\u001b[0m\u001b[0m\n\u001b[0m\u001b[1;32m   1155\u001b[0m \u001b[0;34m\u001b[0m\u001b[0m\n\u001b[1;32m   1156\u001b[0m     \u001b[0;32mif\u001b[0m \u001b[0mexclude_failures\u001b[0m\u001b[0;34m:\u001b[0m\u001b[0;34m\u001b[0m\u001b[0;34m\u001b[0m\u001b[0m\n",
            "\u001b[0;32m/usr/local/lib/python3.10/dist-packages/Cython/Build/Dependencies.py\u001b[0m in \u001b[0;36mcythonize_one\u001b[0;34m(pyx_file, c_file, fingerprint, quiet, options, raise_on_failure, embedded_metadata, full_module_name, show_all_warnings, progress)\u001b[0m\n\u001b[1;32m   1319\u001b[0m     \u001b[0;32mif\u001b[0m \u001b[0many_failures\u001b[0m\u001b[0;34m:\u001b[0m\u001b[0;34m\u001b[0m\u001b[0;34m\u001b[0m\u001b[0m\n\u001b[1;32m   1320\u001b[0m         \u001b[0;32mif\u001b[0m \u001b[0mraise_on_failure\u001b[0m\u001b[0;34m:\u001b[0m\u001b[0;34m\u001b[0m\u001b[0;34m\u001b[0m\u001b[0m\n\u001b[0;32m-> 1321\u001b[0;31m             \u001b[0;32mraise\u001b[0m \u001b[0mCompileError\u001b[0m\u001b[0;34m(\u001b[0m\u001b[0;32mNone\u001b[0m\u001b[0;34m,\u001b[0m \u001b[0mpyx_file\u001b[0m\u001b[0;34m)\u001b[0m\u001b[0;34m\u001b[0m\u001b[0;34m\u001b[0m\u001b[0m\n\u001b[0m\u001b[1;32m   1322\u001b[0m         \u001b[0;32melif\u001b[0m \u001b[0mos\u001b[0m\u001b[0;34m.\u001b[0m\u001b[0mpath\u001b[0m\u001b[0;34m.\u001b[0m\u001b[0mexists\u001b[0m\u001b[0;34m(\u001b[0m\u001b[0mc_file\u001b[0m\u001b[0;34m)\u001b[0m\u001b[0;34m:\u001b[0m\u001b[0;34m\u001b[0m\u001b[0;34m\u001b[0m\u001b[0m\n\u001b[1;32m   1323\u001b[0m             \u001b[0mos\u001b[0m\u001b[0;34m.\u001b[0m\u001b[0mremove\u001b[0m\u001b[0;34m(\u001b[0m\u001b[0mc_file\u001b[0m\u001b[0;34m)\u001b[0m\u001b[0;34m\u001b[0m\u001b[0;34m\u001b[0m\u001b[0m\n",
            "\u001b[0;31mCompileError\u001b[0m: /usr/local/lib/python3.10/dist-packages/mujoco_py/cymj.pyx"
          ]
        }
      ]
    },
    {
      "cell_type": "code",
      "source": [
        "!apt-get install -y \\\n",
        "    libgl1-mesa-dev \\\n",
        "    libgl1-mesa-glx \\\n",
        "    libglew-dev \\\n",
        "    libosmesa6-dev \\\n",
        "    software-properties-common\n",
        "\n",
        "!apt-get install -y patchelf\n",
        "\n",
        "!pip install gym\n",
        "\n",
        "!pip install free-mujoco-py"
      ],
      "metadata": {
        "colab": {
          "base_uri": "https://localhost:8080/"
        },
        "id": "lbXIF-EDnLJq",
        "outputId": "a6172711-f602-4a11-8495-60c9937d39bf"
      },
      "execution_count": 1,
      "outputs": [
        {
          "output_type": "stream",
          "name": "stdout",
          "text": [
            "Reading package lists... Done\n",
            "Building dependency tree... Done\n",
            "Reading state information... Done\n",
            "libglew-dev is already the newest version (2.2.0-4).\n",
            "libgl1-mesa-dev is already the newest version (23.2.1-1ubuntu3.1~22.04.2).\n",
            "libosmesa6-dev is already the newest version (23.2.1-1ubuntu3.1~22.04.2).\n",
            "software-properties-common is already the newest version (0.99.22.9).\n",
            "libgl1-mesa-glx is already the newest version (23.0.4-0ubuntu1~22.04.1).\n",
            "0 upgraded, 0 newly installed, 0 to remove and 45 not upgraded.\n",
            "Reading package lists... Done\n",
            "Building dependency tree... Done\n",
            "Reading state information... Done\n",
            "patchelf is already the newest version (0.14.3-1).\n",
            "0 upgraded, 0 newly installed, 0 to remove and 45 not upgraded.\n",
            "Requirement already satisfied: gym in /usr/local/lib/python3.10/dist-packages (0.25.2)\n",
            "Requirement already satisfied: numpy>=1.18.0 in /usr/local/lib/python3.10/dist-packages (from gym) (1.25.2)\n",
            "Requirement already satisfied: cloudpickle>=1.2.0 in /usr/local/lib/python3.10/dist-packages (from gym) (2.2.1)\n",
            "Requirement already satisfied: gym-notices>=0.0.4 in /usr/local/lib/python3.10/dist-packages (from gym) (0.0.8)\n",
            "Requirement already satisfied: free-mujoco-py in /usr/local/lib/python3.10/dist-packages (2.1.6)\n",
            "Requirement already satisfied: Cython<0.30.0,>=0.29.24 in /usr/local/lib/python3.10/dist-packages (from free-mujoco-py) (0.29.37)\n",
            "Requirement already satisfied: cffi<2.0.0,>=1.15.0 in /usr/local/lib/python3.10/dist-packages (from free-mujoco-py) (1.16.0)\n",
            "Requirement already satisfied: fasteners==0.15 in /usr/local/lib/python3.10/dist-packages (from free-mujoco-py) (0.15)\n",
            "Requirement already satisfied: glfw<2.0.0,>=1.4.0 in /usr/local/lib/python3.10/dist-packages (from free-mujoco-py) (1.12.0)\n",
            "Requirement already satisfied: imageio<3.0.0,>=2.9.0 in /usr/local/lib/python3.10/dist-packages (from free-mujoco-py) (2.31.6)\n",
            "Requirement already satisfied: numpy<2.0.0,>=1.21.3 in /usr/local/lib/python3.10/dist-packages (from free-mujoco-py) (1.25.2)\n",
            "Requirement already satisfied: six in /usr/local/lib/python3.10/dist-packages (from fasteners==0.15->free-mujoco-py) (1.16.0)\n",
            "Requirement already satisfied: monotonic>=0.1 in /usr/local/lib/python3.10/dist-packages (from fasteners==0.15->free-mujoco-py) (1.6)\n",
            "Requirement already satisfied: pycparser in /usr/local/lib/python3.10/dist-packages (from cffi<2.0.0,>=1.15.0->free-mujoco-py) (2.22)\n",
            "Requirement already satisfied: pillow<10.1.0,>=8.3.2 in /usr/local/lib/python3.10/dist-packages (from imageio<3.0.0,>=2.9.0->free-mujoco-py) (9.4.0)\n"
          ]
        }
      ]
    },
    {
      "cell_type": "code",
      "source": [
        "! pip install mujoco"
      ],
      "metadata": {
        "colab": {
          "base_uri": "https://localhost:8080/"
        },
        "id": "NtWjC15Pva2b",
        "outputId": "900eba37-5360-4a58-9f9e-1958f57eb52b"
      },
      "execution_count": 2,
      "outputs": [
        {
          "output_type": "stream",
          "name": "stdout",
          "text": [
            "Requirement already satisfied: mujoco in /usr/local/lib/python3.10/dist-packages (3.1.5)\n",
            "Requirement already satisfied: absl-py in /usr/local/lib/python3.10/dist-packages (from mujoco) (1.4.0)\n",
            "Requirement already satisfied: etils[epath] in /usr/local/lib/python3.10/dist-packages (from mujoco) (1.7.0)\n",
            "Requirement already satisfied: glfw in /usr/local/lib/python3.10/dist-packages (from mujoco) (1.12.0)\n",
            "Requirement already satisfied: numpy in /usr/local/lib/python3.10/dist-packages (from mujoco) (1.25.2)\n",
            "Requirement already satisfied: pyopengl in /usr/local/lib/python3.10/dist-packages (from mujoco) (3.1.7)\n",
            "Requirement already satisfied: fsspec in /usr/local/lib/python3.10/dist-packages (from etils[epath]->mujoco) (2023.6.0)\n",
            "Requirement already satisfied: importlib_resources in /usr/local/lib/python3.10/dist-packages (from etils[epath]->mujoco) (6.4.0)\n",
            "Requirement already satisfied: typing_extensions in /usr/local/lib/python3.10/dist-packages (from etils[epath]->mujoco) (4.11.0)\n",
            "Requirement already satisfied: zipp in /usr/local/lib/python3.10/dist-packages (from etils[epath]->mujoco) (3.18.1)\n"
          ]
        }
      ]
    },
    {
      "cell_type": "code",
      "source": [
        "! pip install transformers\n",
        "! pip install datasets\n",
        "! pip install glfw"
      ],
      "metadata": {
        "id": "imPTtfSvTtob",
        "colab": {
          "base_uri": "https://localhost:8080/"
        },
        "outputId": "6b7d8cf1-6111-4238-fb46-9305c4623b6a"
      },
      "execution_count": 2,
      "outputs": [
        {
          "output_type": "stream",
          "name": "stdout",
          "text": [
            "Requirement already satisfied: transformers in /usr/local/lib/python3.10/dist-packages (4.40.2)\n",
            "Requirement already satisfied: filelock in /usr/local/lib/python3.10/dist-packages (from transformers) (3.14.0)\n",
            "Requirement already satisfied: huggingface-hub<1.0,>=0.19.3 in /usr/local/lib/python3.10/dist-packages (from transformers) (0.20.3)\n",
            "Requirement already satisfied: numpy>=1.17 in /usr/local/lib/python3.10/dist-packages (from transformers) (1.25.2)\n",
            "Requirement already satisfied: packaging>=20.0 in /usr/local/lib/python3.10/dist-packages (from transformers) (24.0)\n",
            "Requirement already satisfied: pyyaml>=5.1 in /usr/local/lib/python3.10/dist-packages (from transformers) (6.0.1)\n",
            "Requirement already satisfied: regex!=2019.12.17 in /usr/local/lib/python3.10/dist-packages (from transformers) (2023.12.25)\n",
            "Requirement already satisfied: requests in /usr/local/lib/python3.10/dist-packages (from transformers) (2.31.0)\n",
            "Requirement already satisfied: tokenizers<0.20,>=0.19 in /usr/local/lib/python3.10/dist-packages (from transformers) (0.19.1)\n",
            "Requirement already satisfied: safetensors>=0.4.1 in /usr/local/lib/python3.10/dist-packages (from transformers) (0.4.3)\n",
            "Requirement already satisfied: tqdm>=4.27 in /usr/local/lib/python3.10/dist-packages (from transformers) (4.66.4)\n",
            "Requirement already satisfied: fsspec>=2023.5.0 in /usr/local/lib/python3.10/dist-packages (from huggingface-hub<1.0,>=0.19.3->transformers) (2023.6.0)\n",
            "Requirement already satisfied: typing-extensions>=3.7.4.3 in /usr/local/lib/python3.10/dist-packages (from huggingface-hub<1.0,>=0.19.3->transformers) (4.11.0)\n",
            "Requirement already satisfied: charset-normalizer<4,>=2 in /usr/local/lib/python3.10/dist-packages (from requests->transformers) (3.3.2)\n",
            "Requirement already satisfied: idna<4,>=2.5 in /usr/local/lib/python3.10/dist-packages (from requests->transformers) (3.7)\n",
            "Requirement already satisfied: urllib3<3,>=1.21.1 in /usr/local/lib/python3.10/dist-packages (from requests->transformers) (2.0.7)\n",
            "Requirement already satisfied: certifi>=2017.4.17 in /usr/local/lib/python3.10/dist-packages (from requests->transformers) (2024.2.2)\n",
            "Collecting datasets\n",
            "  Downloading datasets-2.19.1-py3-none-any.whl (542 kB)\n",
            "\u001b[2K     \u001b[90m━━━━━━━━━━━━━━━━━━━━━━━━━━━━━━━━━━━━━━━━\u001b[0m \u001b[32m542.0/542.0 kB\u001b[0m \u001b[31m6.5 MB/s\u001b[0m eta \u001b[36m0:00:00\u001b[0m\n",
            "\u001b[?25hRequirement already satisfied: filelock in /usr/local/lib/python3.10/dist-packages (from datasets) (3.14.0)\n",
            "Requirement already satisfied: numpy>=1.17 in /usr/local/lib/python3.10/dist-packages (from datasets) (1.25.2)\n",
            "Requirement already satisfied: pyarrow>=12.0.0 in /usr/local/lib/python3.10/dist-packages (from datasets) (14.0.2)\n",
            "Requirement already satisfied: pyarrow-hotfix in /usr/local/lib/python3.10/dist-packages (from datasets) (0.6)\n",
            "Collecting dill<0.3.9,>=0.3.0 (from datasets)\n",
            "  Downloading dill-0.3.8-py3-none-any.whl (116 kB)\n",
            "\u001b[2K     \u001b[90m━━━━━━━━━━━━━━━━━━━━━━━━━━━━━━━━━━━━━━━━\u001b[0m \u001b[32m116.3/116.3 kB\u001b[0m \u001b[31m4.9 MB/s\u001b[0m eta \u001b[36m0:00:00\u001b[0m\n",
            "\u001b[?25hRequirement already satisfied: pandas in /usr/local/lib/python3.10/dist-packages (from datasets) (2.0.3)\n",
            "Requirement already satisfied: requests>=2.19.0 in /usr/local/lib/python3.10/dist-packages (from datasets) (2.31.0)\n",
            "Requirement already satisfied: tqdm>=4.62.1 in /usr/local/lib/python3.10/dist-packages (from datasets) (4.66.4)\n",
            "Collecting xxhash (from datasets)\n",
            "  Downloading xxhash-3.4.1-cp310-cp310-manylinux_2_17_x86_64.manylinux2014_x86_64.whl (194 kB)\n",
            "\u001b[2K     \u001b[90m━━━━━━━━━━━━━━━━━━━━━━━━━━━━━━━━━━━━━━━━\u001b[0m \u001b[32m194.1/194.1 kB\u001b[0m \u001b[31m9.1 MB/s\u001b[0m eta \u001b[36m0:00:00\u001b[0m\n",
            "\u001b[?25hCollecting multiprocess (from datasets)\n",
            "  Downloading multiprocess-0.70.16-py310-none-any.whl (134 kB)\n",
            "\u001b[2K     \u001b[90m━━━━━━━━━━━━━━━━━━━━━━━━━━━━━━━━━━━━━━━━\u001b[0m \u001b[32m134.8/134.8 kB\u001b[0m \u001b[31m8.5 MB/s\u001b[0m eta \u001b[36m0:00:00\u001b[0m\n",
            "\u001b[?25hRequirement already satisfied: fsspec[http]<=2024.3.1,>=2023.1.0 in /usr/local/lib/python3.10/dist-packages (from datasets) (2023.6.0)\n",
            "Requirement already satisfied: aiohttp in /usr/local/lib/python3.10/dist-packages (from datasets) (3.9.5)\n",
            "Collecting huggingface-hub>=0.21.2 (from datasets)\n",
            "  Downloading huggingface_hub-0.23.0-py3-none-any.whl (401 kB)\n",
            "\u001b[2K     \u001b[90m━━━━━━━━━━━━━━━━━━━━━━━━━━━━━━━━━━━━━━━━\u001b[0m \u001b[32m401.2/401.2 kB\u001b[0m \u001b[31m12.8 MB/s\u001b[0m eta \u001b[36m0:00:00\u001b[0m\n",
            "\u001b[?25hRequirement already satisfied: packaging in /usr/local/lib/python3.10/dist-packages (from datasets) (24.0)\n",
            "Requirement already satisfied: pyyaml>=5.1 in /usr/local/lib/python3.10/dist-packages (from datasets) (6.0.1)\n",
            "Requirement already satisfied: aiosignal>=1.1.2 in /usr/local/lib/python3.10/dist-packages (from aiohttp->datasets) (1.3.1)\n",
            "Requirement already satisfied: attrs>=17.3.0 in /usr/local/lib/python3.10/dist-packages (from aiohttp->datasets) (23.2.0)\n",
            "Requirement already satisfied: frozenlist>=1.1.1 in /usr/local/lib/python3.10/dist-packages (from aiohttp->datasets) (1.4.1)\n",
            "Requirement already satisfied: multidict<7.0,>=4.5 in /usr/local/lib/python3.10/dist-packages (from aiohttp->datasets) (6.0.5)\n",
            "Requirement already satisfied: yarl<2.0,>=1.0 in /usr/local/lib/python3.10/dist-packages (from aiohttp->datasets) (1.9.4)\n",
            "Requirement already satisfied: async-timeout<5.0,>=4.0 in /usr/local/lib/python3.10/dist-packages (from aiohttp->datasets) (4.0.3)\n",
            "Requirement already satisfied: typing-extensions>=3.7.4.3 in /usr/local/lib/python3.10/dist-packages (from huggingface-hub>=0.21.2->datasets) (4.11.0)\n",
            "Requirement already satisfied: charset-normalizer<4,>=2 in /usr/local/lib/python3.10/dist-packages (from requests>=2.19.0->datasets) (3.3.2)\n",
            "Requirement already satisfied: idna<4,>=2.5 in /usr/local/lib/python3.10/dist-packages (from requests>=2.19.0->datasets) (3.7)\n",
            "Requirement already satisfied: urllib3<3,>=1.21.1 in /usr/local/lib/python3.10/dist-packages (from requests>=2.19.0->datasets) (2.0.7)\n",
            "Requirement already satisfied: certifi>=2017.4.17 in /usr/local/lib/python3.10/dist-packages (from requests>=2.19.0->datasets) (2024.2.2)\n",
            "Requirement already satisfied: python-dateutil>=2.8.2 in /usr/local/lib/python3.10/dist-packages (from pandas->datasets) (2.8.2)\n",
            "Requirement already satisfied: pytz>=2020.1 in /usr/local/lib/python3.10/dist-packages (from pandas->datasets) (2023.4)\n",
            "Requirement already satisfied: tzdata>=2022.1 in /usr/local/lib/python3.10/dist-packages (from pandas->datasets) (2024.1)\n",
            "Requirement already satisfied: six>=1.5 in /usr/local/lib/python3.10/dist-packages (from python-dateutil>=2.8.2->pandas->datasets) (1.16.0)\n",
            "Installing collected packages: xxhash, dill, multiprocess, huggingface-hub, datasets\n",
            "  Attempting uninstall: huggingface-hub\n",
            "    Found existing installation: huggingface-hub 0.20.3\n",
            "    Uninstalling huggingface-hub-0.20.3:\n",
            "      Successfully uninstalled huggingface-hub-0.20.3\n",
            "Successfully installed datasets-2.19.1 dill-0.3.8 huggingface-hub-0.23.0 multiprocess-0.70.16 xxhash-3.4.1\n",
            "Requirement already satisfied: glfw in /usr/local/lib/python3.10/dist-packages (2.7.0)\n"
          ]
        }
      ]
    },
    {
      "cell_type": "code",
      "source": [
        "import gym\n",
        "import numpy as np\n",
        "\n",
        "import collections\n",
        "import pickle\n",
        "\n",
        "from datasets import load_dataset\n",
        "import transformers\n",
        "\n",
        "import torch\n",
        "from torch import nn\n",
        "\n",
        "import matplotlib.pyplot as plt\n"
      ],
      "metadata": {
        "id": "8GggVNrRTpKN"
      },
      "execution_count": 28,
      "outputs": []
    },
    {
      "cell_type": "markdown",
      "source": [
        "write collate_fn, build dataloader"
      ],
      "metadata": {
        "id": "c0pARHjRW7Bl"
      }
    },
    {
      "cell_type": "code",
      "source": [
        "GAMMA = 0.99\n",
        "MAX_LEN = 32\n",
        "MAX_EP_LEN = 1000\n",
        "BATCH_SIZE = 16\n",
        "HIDDEN_SIZE = 128\n",
        "SCALE = 1000\n",
        "\n",
        "ENV_NAME = 'HalfCheetah-v4'\n",
        "TARGET = [12000, 6000]\n",
        "\n",
        "EPOCHS = 10\n"
      ],
      "metadata": {
        "id": "hQQnqSrUXV7E"
      },
      "execution_count": 26,
      "outputs": []
    },
    {
      "cell_type": "code",
      "source": [
        "# make environment\n",
        "\n",
        "env = gym.make(ENV_NAME)\n",
        "state_dim = env.observation_space.shape[0]\n",
        "act_dim = env.action_space.shape[0]\n"
      ],
      "metadata": {
        "colab": {
          "base_uri": "https://localhost:8080/"
        },
        "id": "A9ApD_8rbpSd",
        "outputId": "395ad24b-adc2-4792-b329-af661bfe5d57"
      },
      "execution_count": 6,
      "outputs": [
        {
          "output_type": "stream",
          "name": "stdout",
          "text": [
            "Compiling /usr/local/lib/python3.10/dist-packages/mujoco_py/cymj.pyx because it changed.\n",
            "[1/1] Cythonizing /usr/local/lib/python3.10/dist-packages/mujoco_py/cymj.pyx\n"
          ]
        },
        {
          "output_type": "stream",
          "name": "stderr",
          "text": [
            "INFO:root:running build_ext\n",
            "INFO:root:building 'mujoco_py.cymj' extension\n",
            "INFO:root:creating /usr/local/lib/python3.10/dist-packages/mujoco_py/generated/_pyxbld_2.0.2.13_310_linuxcpuextensionbuilder\n",
            "INFO:root:creating /usr/local/lib/python3.10/dist-packages/mujoco_py/generated/_pyxbld_2.0.2.13_310_linuxcpuextensionbuilder/temp.linux-x86_64-cpython-310\n",
            "INFO:root:creating /usr/local/lib/python3.10/dist-packages/mujoco_py/generated/_pyxbld_2.0.2.13_310_linuxcpuextensionbuilder/temp.linux-x86_64-cpython-310/usr\n",
            "INFO:root:creating /usr/local/lib/python3.10/dist-packages/mujoco_py/generated/_pyxbld_2.0.2.13_310_linuxcpuextensionbuilder/temp.linux-x86_64-cpython-310/usr/local\n",
            "INFO:root:creating /usr/local/lib/python3.10/dist-packages/mujoco_py/generated/_pyxbld_2.0.2.13_310_linuxcpuextensionbuilder/temp.linux-x86_64-cpython-310/usr/local/lib\n",
            "INFO:root:creating /usr/local/lib/python3.10/dist-packages/mujoco_py/generated/_pyxbld_2.0.2.13_310_linuxcpuextensionbuilder/temp.linux-x86_64-cpython-310/usr/local/lib/python3.10\n",
            "INFO:root:creating /usr/local/lib/python3.10/dist-packages/mujoco_py/generated/_pyxbld_2.0.2.13_310_linuxcpuextensionbuilder/temp.linux-x86_64-cpython-310/usr/local/lib/python3.10/dist-packages\n",
            "INFO:root:creating /usr/local/lib/python3.10/dist-packages/mujoco_py/generated/_pyxbld_2.0.2.13_310_linuxcpuextensionbuilder/temp.linux-x86_64-cpython-310/usr/local/lib/python3.10/dist-packages/mujoco_py\n",
            "INFO:root:creating /usr/local/lib/python3.10/dist-packages/mujoco_py/generated/_pyxbld_2.0.2.13_310_linuxcpuextensionbuilder/temp.linux-x86_64-cpython-310/usr/local/lib/python3.10/dist-packages/mujoco_py/gl\n",
            "INFO:root:x86_64-linux-gnu-gcc -Wno-unused-result -Wsign-compare -DNDEBUG -g -fwrapv -O2 -Wall -g -fstack-protector-strong -Wformat -Werror=format-security -g -fwrapv -O2 -fPIC -I/usr/local/lib/python3.10/dist-packages/mujoco_py -I/usr/local/lib/python3.10/dist-packages/mujoco_py/binaries/linux/mujoco210/include -I/usr/local/lib/python3.10/dist-packages/numpy/core/include -I/usr/include/python3.10 -c /usr/local/lib/python3.10/dist-packages/mujoco_py/cymj.c -o /usr/local/lib/python3.10/dist-packages/mujoco_py/generated/_pyxbld_2.0.2.13_310_linuxcpuextensionbuilder/temp.linux-x86_64-cpython-310/usr/local/lib/python3.10/dist-packages/mujoco_py/cymj.o -fopenmp -w\n",
            "INFO:root:x86_64-linux-gnu-gcc -Wno-unused-result -Wsign-compare -DNDEBUG -g -fwrapv -O2 -Wall -g -fstack-protector-strong -Wformat -Werror=format-security -g -fwrapv -O2 -fPIC -I/usr/local/lib/python3.10/dist-packages/mujoco_py -I/usr/local/lib/python3.10/dist-packages/mujoco_py/binaries/linux/mujoco210/include -I/usr/local/lib/python3.10/dist-packages/numpy/core/include -I/usr/include/python3.10 -c /usr/local/lib/python3.10/dist-packages/mujoco_py/gl/osmesashim.c -o /usr/local/lib/python3.10/dist-packages/mujoco_py/generated/_pyxbld_2.0.2.13_310_linuxcpuextensionbuilder/temp.linux-x86_64-cpython-310/usr/local/lib/python3.10/dist-packages/mujoco_py/gl/osmesashim.o -fopenmp -w\n",
            "INFO:root:creating /usr/local/lib/python3.10/dist-packages/mujoco_py/generated/_pyxbld_2.0.2.13_310_linuxcpuextensionbuilder/lib.linux-x86_64-cpython-310\n",
            "INFO:root:creating /usr/local/lib/python3.10/dist-packages/mujoco_py/generated/_pyxbld_2.0.2.13_310_linuxcpuextensionbuilder/lib.linux-x86_64-cpython-310/mujoco_py\n",
            "INFO:root:x86_64-linux-gnu-gcc -shared -Wl,-O1 -Wl,-Bsymbolic-functions -Wl,-Bsymbolic-functions -g -fwrapv -O2 /usr/local/lib/python3.10/dist-packages/mujoco_py/generated/_pyxbld_2.0.2.13_310_linuxcpuextensionbuilder/temp.linux-x86_64-cpython-310/usr/local/lib/python3.10/dist-packages/mujoco_py/cymj.o /usr/local/lib/python3.10/dist-packages/mujoco_py/generated/_pyxbld_2.0.2.13_310_linuxcpuextensionbuilder/temp.linux-x86_64-cpython-310/usr/local/lib/python3.10/dist-packages/mujoco_py/gl/osmesashim.o -L/usr/local/lib/python3.10/dist-packages/mujoco_py/binaries/linux/mujoco210/bin -L/usr/lib/x86_64-linux-gnu -Wl,--enable-new-dtags,-R/usr/local/lib/python3.10/dist-packages/mujoco_py/binaries/linux/mujoco210/bin -lmujoco210 -lglewosmesa -lOSMesa -lGL -o /usr/local/lib/python3.10/dist-packages/mujoco_py/generated/_pyxbld_2.0.2.13_310_linuxcpuextensionbuilder/lib.linux-x86_64-cpython-310/mujoco_py/cymj.cpython-310-x86_64-linux-gnu.so -fopenmp\n",
            "<frozen importlib._bootstrap>:283: DeprecationWarning: the load_module() method is deprecated and slated for removal in Python 3.12; use exec_module() instead\n",
            "/usr/local/lib/python3.10/dist-packages/gym/core.py:317: DeprecationWarning: \u001b[33mWARN: Initializing wrapper in old step API which returns one bool instead of two. It is recommended to set `new_step_api=True` to use new step API. This will be the default behaviour in future.\u001b[0m\n",
            "  deprecation(\n",
            "/usr/local/lib/python3.10/dist-packages/gym/wrappers/step_api_compatibility.py:39: DeprecationWarning: \u001b[33mWARN: Initializing environment in old step API which returns one bool instead of two. It is recommended to set `new_step_api=True` to use new step API. This will be the default behaviour in future.\u001b[0m\n",
            "  deprecation(\n"
          ]
        }
      ]
    },
    {
      "cell_type": "code",
      "source": [
        "# load dataset\n",
        "dataset = load_dataset(\"edbeeching/decision_transformer_gym_replay\", \"halfcheetah-medium-v2\")\n",
        "print(len(dataset['train']['observations']))\n",
        "print(\"Success\")"
      ],
      "metadata": {
        "colab": {
          "base_uri": "https://localhost:8080/",
          "height": 224,
          "referenced_widgets": [
            "e612d1d9df03493196bbe08f7c7ebf87",
            "02cd036962cb4110b17ad958429741bd",
            "a39b5c3430144c8bb0e1253f74d3ea62",
            "3876d116b3e24c3db4356a61e6dac7ac",
            "e258284119f84e76a7bdbb74f06ae6d9",
            "2838e639b9ac49b288f9e9f793df08a9",
            "8023e96612db4cf18f5a14bbc0f4925f",
            "dcfe23e750c04285b74db31d73f500a9",
            "320c2f1e89a84b65a6eeff0309431316",
            "938f4bfa132740b09fd8fe78dadd6c58",
            "168de5c50e1e4099b91a73e4906157ee",
            "be638b27574d4cb1b03ad141407f17a0",
            "9f34bb9e0c564db4aeae7b006465d916",
            "671f4408e9ee4c90b25eb3a5a370cd2c",
            "3c7a5300b9d74fe1a309fa045e6d394e",
            "f94b5773c07c48719d4848b1e8115224",
            "67e9ca503d834baa9ffb290970b74144",
            "66d09ed653f941ff88d99534672c93df",
            "47397dde36a342bcbdec633b549e772d",
            "f0a1b2802d08419b92332b5a789178a7",
            "4e8ce3074e304609aea3a1cdbccb11fc",
            "c652a7a1eec84458a63936ac5da95751"
          ]
        },
        "id": "gZRi2OhzTrFE",
        "outputId": "c5e13d4d-cafb-4377-e993-606dc07049f0"
      },
      "execution_count": 7,
      "outputs": [
        {
          "output_type": "stream",
          "name": "stderr",
          "text": [
            "/usr/local/lib/python3.10/dist-packages/huggingface_hub/utils/_token.py:89: UserWarning: \n",
            "The secret `HF_TOKEN` does not exist in your Colab secrets.\n",
            "To authenticate with the Hugging Face Hub, create a token in your settings tab (https://huggingface.co/settings/tokens), set it as secret in your Google Colab and restart your session.\n",
            "You will be able to reuse this secret in all of your notebooks.\n",
            "Please note that authentication is recommended but still optional to access public models or datasets.\n",
            "  warnings.warn(\n"
          ]
        },
        {
          "output_type": "display_data",
          "data": {
            "text/plain": [
              "Downloading data:   0%|          | 0.00/98.2M [00:00<?, ?B/s]"
            ],
            "application/vnd.jupyter.widget-view+json": {
              "version_major": 2,
              "version_minor": 0,
              "model_id": "e612d1d9df03493196bbe08f7c7ebf87"
            }
          },
          "metadata": {}
        },
        {
          "output_type": "display_data",
          "data": {
            "text/plain": [
              "Generating train split:   0%|          | 0/1000 [00:00<?, ? examples/s]"
            ],
            "application/vnd.jupyter.widget-view+json": {
              "version_major": 2,
              "version_minor": 0,
              "model_id": "be638b27574d4cb1b03ad141407f17a0"
            }
          },
          "metadata": {}
        },
        {
          "output_type": "stream",
          "name": "stdout",
          "text": [
            "1000\n",
            "Success\n"
          ]
        }
      ]
    },
    {
      "cell_type": "code",
      "source": [],
      "metadata": {
        "id": "rEvEG4sAjc84"
      },
      "execution_count": null,
      "outputs": []
    },
    {
      "cell_type": "markdown",
      "source": [
        "To-Do\n",
        "\n",
        "add max len with random in collate ~ 1 hour - done\n",
        "\n",
        "write trajectory model and test ~ 10 hr - in progress\n",
        "\n"
      ],
      "metadata": {
        "id": "LlagjM6RiX-2"
      }
    },
    {
      "cell_type": "code",
      "source": [
        "def discount_cumsum(x, gamma=GAMMA):\n",
        "    discount_cumsum = np.zeros_like(x)\n",
        "    discount_cumsum[-1] = x[-1]\n",
        "    for t in reversed(range(len(x)-1)):\n",
        "        discount_cumsum[t] = x[t] + gamma * discount_cumsum[t+1]\n",
        "    return discount_cumsum\n",
        "\n",
        "def collate_fn(batch):\n",
        "\n",
        "  # observations : (B X MAX_LEN x 17)\n",
        "  # actions : (B X MAX_LEN X 6)\n",
        "  # rewards : (B X MAX_LEN)\n",
        "  # rewards-to-go : (B X MAX_LEN)\n",
        "  # dones : (B X MAX_LEN )\n",
        "\n",
        "  # restrain to size of MAX_LEN\n",
        "\n",
        "  # generate segments of MAX_LEN\n",
        "\n",
        "  batch_size = len(batch)\n",
        "\n",
        "  indices = [np.random.randint(0, 1000 - MAX_LEN) for _ in range(len(batch))]\n",
        "\n",
        "  observations = [batch[i]['observations'][indices[i] : indices[i] + MAX_LEN] for i in range(len(batch))]\n",
        "  actions = [batch[i]['actions'][indices[i] : indices[i] + MAX_LEN] for i in range(len(batch))]\n",
        "  rewards = [batch[i]['rewards'][indices[i] : indices[i] + MAX_LEN] for i in range(len(batch))]\n",
        "  rewards_to_go = [discount_cumsum(r, GAMMA) for r in rewards] #/ SCALE\n",
        "  dones = [batch[i]['dones'][indices[i] : indices[i] + MAX_LEN] for i in range(len(batch))]\n",
        "\n",
        "\n",
        "  indices = torch.tensor(indices).reshape(batch_size, -1)\n",
        "  observations = torch.tensor(observations).float()\n",
        "  actions  = torch.tensor(actions).float()\n",
        "  rewards  = torch.tensor(rewards).float().reshape(batch_size, -1, 1)\n",
        "  rewards_to_go  = torch.tensor(rewards_to_go).float().reshape(batch_size, -1, 1)\n",
        "  dones  = torch.tensor(dones).float()\n",
        "\n",
        "  return indices, observations, actions, rewards, rewards_to_go, dones\n",
        "\n",
        "dataloader = torch.utils.data.DataLoader(dataset['train'], batch_size=BATCH_SIZE, collate_fn=collate_fn)\n",
        "\n"
      ],
      "metadata": {
        "id": "ce9HUtU6VjJu"
      },
      "execution_count": 8,
      "outputs": []
    },
    {
      "cell_type": "code",
      "source": [
        "#normalize state??\n",
        "\n",
        "# understand gpt mask"
      ],
      "metadata": {
        "id": "0IezVs_olNgD"
      },
      "execution_count": 30,
      "outputs": []
    },
    {
      "cell_type": "code",
      "source": [
        "# adapted from https://github.com/kzl/decision-transformer\n",
        "\n",
        "\n",
        "# custom layer to make positional embeddings 0 ( effectively removing them in the forward function)\n",
        "class ZeroLayer(nn.Module):\n",
        "    def __init__(self, seq_length = MAX_LEN, hidden_size = HIDDEN_SIZE):\n",
        "        super().__init__()\n",
        "        self.dim2 = seq_length * 3\n",
        "        self.dim3 = hidden_size\n",
        "\n",
        "    def forward(self, inputs):\n",
        "        # Create a tensor filled with zeros with the same shape as the input\n",
        "        return torch.zeros((inputs.shape[0], self.dim2, self.dim3))\n",
        "\n",
        "\n",
        "class DecisionTransformer(nn.Module):\n",
        "  def __init__(self, state_dim, act_dim, hidden_size=HIDDEN_SIZE, max_length=MAX_LEN, max_episode_len=MAX_EP_LEN, **kwargs):\n",
        "    super().__init__()\n",
        "\n",
        "    self.state_dim = state_dim\n",
        "    self.act_dim = act_dim\n",
        "    self.max_length = max_length\n",
        "    self.hidden_size = hidden_size\n",
        "\n",
        "    config = transformers.GPT2Config(\n",
        "        vocab_size=1,  # doesn't matter -- we don't use the vocab\n",
        "        n_embd=hidden_size,\n",
        "        **kwargs,\n",
        "    )\n",
        "\n",
        "    self.transformer = transformers.GPT2Model(config)\n",
        "\n",
        "    self.transformer.wpe = ZeroLayer(self.max_length, self.hidden_size)\n",
        "\n",
        "\n",
        "    self.embed_timestep = nn.Embedding(max_episode_len, hidden_size)\n",
        "    self.embed_return = torch.nn.Linear(1, hidden_size)\n",
        "    self.embed_state = torch.nn.Linear(self.state_dim, hidden_size)\n",
        "    self.embed_action = torch.nn.Linear(self.act_dim, hidden_size)\n",
        "\n",
        "    self.embed_ln = nn.LayerNorm(hidden_size)\n",
        "\n",
        "    self.predict_state = torch.nn.Linear(hidden_size, self.state_dim)\n",
        "    self.predict_action = nn.Sequential(\n",
        "        *([nn.Linear(hidden_size, self.act_dim)] + [nn.Tanh()])\n",
        "    )\n",
        "    self.predict_return = torch.nn.Linear(hidden_size, 1)\n",
        "\n",
        "\n",
        "\n",
        "\n",
        "  def forward(self, timesteps, states, actions, rewards, rewards_to_go, masks=None, attention_mask=None):\n",
        "    # \"masked\" tokens or unspecified inputs can be passed in as None\n",
        "    self.transformer.wpe = ZeroLayer(self.max_length, self.hidden_size)\n",
        "\n",
        "    batch_size, seq_length = states.shape[0], states.shape[1]\n",
        "\n",
        "    if attention_mask is None: attention_mask = torch.ones((batch_size, seq_length), dtype=torch.long)\n",
        "\n",
        "\n",
        "     # embed each modality with a different head\n",
        "    state_embeddings = self.embed_state(states)\n",
        "\n",
        "    action_embeddings = self.embed_action(actions)\n",
        "\n",
        "    rewards_to_go_embeddings = self.embed_return(rewards_to_go)\n",
        "\n",
        "    time_embeddings = self.embed_timestep(timesteps)\n",
        "\n",
        "\n",
        "\n",
        "\n",
        "    # time embeddings are treated similar to positional embeddings\n",
        "    state_embeddings = state_embeddings + time_embeddings\n",
        "    action_embeddings = action_embeddings + time_embeddings\n",
        "    rewards_to_go_embeddings = rewards_to_go_embeddings + time_embeddings\n",
        "\n",
        "\n",
        "\n",
        "    # this makes the sequence look like (R_1, s_1, a_1, R_2, s_2, a_2, ...)\n",
        "    # which works nice in an autoregressive sense since states predict actions\n",
        "    stacked_inputs = torch.stack(\n",
        "        (rewards_to_go_embeddings, state_embeddings, action_embeddings), dim=1\n",
        "    ).permute(0, 2, 1, 3).reshape(batch_size, 3*seq_length, self.hidden_size)\n",
        "    stacked_inputs = self.embed_ln(stacked_inputs)\n",
        "\n",
        "\n",
        "    # to make the attention mask fit the stacked inputs, have to stack it as well\n",
        "    stacked_attention_mask = torch.stack(\n",
        "        (attention_mask, attention_mask, attention_mask), dim=1\n",
        "    ).permute(0, 2, 1).reshape(batch_size, 3*seq_length)\n",
        "\n",
        "\n",
        "\n",
        "    # we feed in the input embeddings (not word indices as in NLP) to the model\n",
        "    transformer_outputs = self.transformer(\n",
        "        inputs_embeds=stacked_inputs,\n",
        "        attention_mask=stacked_attention_mask,\n",
        "    )\n",
        "    x = transformer_outputs['last_hidden_state']\n",
        "\n",
        "    # reshape x so that the second dimension corresponds to the original\n",
        "    # returns (0), states (1), or actions (2); i.e. x[:,1,t] is the token for s_t\n",
        "    x = x.reshape(batch_size, seq_length, 3, self.hidden_size).permute(0, 2, 1, 3)\n",
        "\n",
        "    # get predictions\n",
        "    return_preds = self.predict_return(x[:,2])  # predict next return given state and action\n",
        "    state_preds = self.predict_state(x[:,2])    # predict next state given state and action\n",
        "    action_preds = self.predict_action(x[:,1])  # predict next action given state\n",
        "\n",
        "    return state_preds, action_preds, return_preds\n",
        "\n",
        "  def get_action(self, states, actions, rewards, returns_to_go, timesteps, **kwargs):\n",
        "\n",
        "    # we don't care about the past rewards in this model\n",
        "\n",
        "    states = states.reshape(1, -1, self.state_dim)\n",
        "    actions = actions.reshape(1, -1, self.act_dim)\n",
        "    returns_to_go = returns_to_go.reshape(1, -1, 1)\n",
        "    timesteps = timesteps.reshape(1, -1)\n",
        "\n",
        "\n",
        "\n",
        "    if self.max_length is not None:\n",
        "\n",
        "        states = states[:,-self.max_length:]\n",
        "        actions = actions[:,-self.max_length:]\n",
        "        returns_to_go = returns_to_go[:,-self.max_length:]\n",
        "        timesteps = timesteps[:,-self.max_length:]\n",
        "\n",
        "\n",
        "        # pad all tokens to sequence length\n",
        "        attention_mask = torch.cat([torch.zeros(self.max_length-states.shape[1]), torch.ones(states.shape[1])])\n",
        "        attention_mask = attention_mask.to(dtype=torch.long, device=states.device).reshape(1, -1)\n",
        "\n",
        "        states = torch.cat(\n",
        "            [torch.zeros((states.shape[0], self.max_length-states.shape[1], self.state_dim), device=states.device), states],\n",
        "            dim=1).to(dtype=torch.float32)\n",
        "        actions = torch.cat(\n",
        "            [torch.zeros((actions.shape[0], self.max_length - actions.shape[1], self.act_dim),\n",
        "                        device=actions.device), actions],\n",
        "            dim=1).to(dtype=torch.float32)\n",
        "\n",
        "        returns_to_go = torch.cat(\n",
        "            [torch.zeros((returns_to_go.shape[0], self.max_length-returns_to_go.shape[1], 1), device=returns_to_go.device), returns_to_go],\n",
        "            dim=1).to(dtype=torch.float32)\n",
        "\n",
        "        timesteps = torch.cat(\n",
        "            [torch.zeros((timesteps.shape[0], self.max_length-timesteps.shape[1]), device=timesteps.device), timesteps],\n",
        "            dim=1\n",
        "        ).to(dtype=torch.long)\n",
        "\n",
        "    else:\n",
        "        attention_mask = None\n",
        "    # self, timesteps, states, actions, rewards, rewards_to_go, masks=None, attention_mask=None\n",
        "    _, action_preds, return_preds = self.forward(\n",
        "        states = states, actions = actions, rewards = None, rewards_to_go = returns_to_go, timesteps = timesteps, attention_mask=attention_mask, **kwargs)\n",
        "    return action_preds[0,-1]\n",
        "\n",
        "model = DecisionTransformer(\n",
        "            state_dim=state_dim,\n",
        "            act_dim=act_dim,\n",
        "            max_length=MAX_LEN,\n",
        "            max_ep_len=MAX_EP_LEN,\n",
        "            hidden_size=128,\n",
        "            n_layer=3,\n",
        "            n_head=1,\n",
        "            n_inner=4*128,\n",
        "            activation_function='relu',\n",
        "            n_positions=1024,\n",
        "            resid_pdrop=0.1,\n",
        "            attn_pdrop=0.1,\n",
        "        )"
      ],
      "metadata": {
        "id": "NNUeNTwYzu8n"
      },
      "execution_count": 19,
      "outputs": []
    },
    {
      "cell_type": "code",
      "source": [
        "print(model)"
      ],
      "metadata": {
        "colab": {
          "base_uri": "https://localhost:8080/"
        },
        "id": "DqaNEkq8ugsO",
        "outputId": "4ed7856a-7dc7-428b-ac1f-7d7fbf2c8c30"
      },
      "execution_count": 49,
      "outputs": [
        {
          "output_type": "stream",
          "name": "stdout",
          "text": [
            "DecisionTransformer(\n",
            "  (transformer): GPT2Model(\n",
            "    (wte): Embedding(1, 128)\n",
            "    (wpe): ZeroLayer()\n",
            "    (drop): Dropout(p=0.1, inplace=False)\n",
            "    (h): ModuleList(\n",
            "      (0-2): 3 x GPT2Block(\n",
            "        (ln_1): LayerNorm((128,), eps=1e-05, elementwise_affine=True)\n",
            "        (attn): GPT2Attention(\n",
            "          (c_attn): Conv1D()\n",
            "          (c_proj): Conv1D()\n",
            "          (attn_dropout): Dropout(p=0.1, inplace=False)\n",
            "          (resid_dropout): Dropout(p=0.1, inplace=False)\n",
            "        )\n",
            "        (ln_2): LayerNorm((128,), eps=1e-05, elementwise_affine=True)\n",
            "        (mlp): GPT2MLP(\n",
            "          (c_fc): Conv1D()\n",
            "          (c_proj): Conv1D()\n",
            "          (act): ReLU()\n",
            "          (dropout): Dropout(p=0.1, inplace=False)\n",
            "        )\n",
            "      )\n",
            "    )\n",
            "    (ln_f): LayerNorm((128,), eps=1e-05, elementwise_affine=True)\n",
            "  )\n",
            "  (embed_timestep): Embedding(1000, 128)\n",
            "  (embed_return): Linear(in_features=1, out_features=128, bias=True)\n",
            "  (embed_state): Linear(in_features=17, out_features=128, bias=True)\n",
            "  (embed_action): Linear(in_features=6, out_features=128, bias=True)\n",
            "  (embed_ln): LayerNorm((128,), eps=1e-05, elementwise_affine=True)\n",
            "  (predict_state): Linear(in_features=128, out_features=17, bias=True)\n",
            "  (predict_action): Sequential(\n",
            "    (0): Linear(in_features=128, out_features=6, bias=True)\n",
            "    (1): Tanh()\n",
            "  )\n",
            "  (predict_return): Linear(in_features=128, out_features=1, bias=True)\n",
            ")\n"
          ]
        },
        {
          "output_type": "stream",
          "name": "stderr",
          "text": [
            "/usr/local/lib/python3.10/dist-packages/ipykernel/ipkernel.py:283: DeprecationWarning: `should_run_async` will not call `transform_cell` automatically in the future. Please pass the result to `transformed_cell` argument and any exception that happen during thetransform in `preprocessing_exc_tuple` in IPython 7.17 and above.\n",
            "  and should_run_async(code)\n"
          ]
        }
      ]
    },
    {
      "cell_type": "code",
      "source": [
        "state_dim"
      ],
      "metadata": {
        "colab": {
          "base_uri": "https://localhost:8080/"
        },
        "id": "VVl_3oleqMS8",
        "outputId": "9f5e5ad6-61cc-40b8-dca5-d3b89f9439ba"
      },
      "execution_count": 20,
      "outputs": [
        {
          "output_type": "execute_result",
          "data": {
            "text/plain": [
              "17"
            ]
          },
          "metadata": {},
          "execution_count": 20
        }
      ]
    },
    {
      "cell_type": "code",
      "source": [
        "act_dim"
      ],
      "metadata": {
        "colab": {
          "base_uri": "https://localhost:8080/"
        },
        "id": "zEqc2OeIqNiN",
        "outputId": "c1805b62-7c0a-4eaa-aa0b-4732794519ce"
      },
      "execution_count": 21,
      "outputs": [
        {
          "output_type": "execute_result",
          "data": {
            "text/plain": [
              "6"
            ]
          },
          "metadata": {},
          "execution_count": 21
        }
      ]
    },
    {
      "cell_type": "code",
      "source": [
        "# state_preds, action_preds, reward_preds = self.model.forward(\n",
        "#             states, actions, rewards, rtg[:,:-1], timesteps, attention_mask=attention_mask,\n",
        "#         )"
      ],
      "metadata": {
        "id": "IuHbvHnOATpQ"
      },
      "execution_count": 22,
      "outputs": []
    },
    {
      "cell_type": "code",
      "source": [
        "# optimizer and loss function\n",
        "\n",
        "def action_loss(action_pred, action):\n",
        "  return torch.mean((action_pred - action)**2)\n",
        "\n",
        "\n",
        "optimizer = torch.optim.AdamW(model.parameters(), lr=1e-4, weight_decay=1e-4)\n"
      ],
      "metadata": {
        "id": "OzWbmWwzoNdh"
      },
      "execution_count": 24,
      "outputs": []
    },
    {
      "cell_type": "code",
      "source": [
        "# train model\n",
        "model.train()\n",
        "total_loss = []\n",
        "\n",
        "for e in range(EPOCHS):\n",
        "  epoch_loss = 0\n",
        "  # epoch_acc = 0\n",
        "  batch_count = 0\n",
        "\n",
        "  for timesteps, observations, actions, rewards, rewards_to_go, dones in dataloader:\n",
        "    batch_count += 1\n",
        "    action_target = actions.clone()\n",
        "\n",
        "    state_preds, action_preds, reward_preds = model.forward( timesteps, observations, actions, rewards, rewards_to_go, attention_mask=None )\n",
        "\n",
        "    action_preds = action_preds.reshape(-1, act_dim)\n",
        "    action_target = action_target.reshape(-1, act_dim)\n",
        "\n",
        "    loss = action_loss(action_preds, action_target)\n",
        "\n",
        "    optimizer.zero_grad()\n",
        "    loss.backward()\n",
        "    torch.nn.utils.clip_grad_norm_(model.parameters(), .25)\n",
        "    optimizer.step()\n",
        "\n",
        "\n",
        "    with torch.no_grad():\n",
        "      epoch_loss += torch.mean((action_preds-action_target)**2).detach().cpu().item()\n",
        "\n",
        "  total_loss.append(epoch_loss / batch_count)\n",
        "\n",
        "print(total_loss)\n",
        "\n",
        "\n",
        "\n",
        "# evaluate"
      ],
      "metadata": {
        "colab": {
          "base_uri": "https://localhost:8080/"
        },
        "id": "8y0jZEy31Nt6",
        "outputId": "5f438ae5-cf95-49d7-d876-85a42ef7836b"
      },
      "execution_count": 27,
      "outputs": [
        {
          "output_type": "stream",
          "name": "stdout",
          "text": [
            "[0.3346995649829743, 0.21877122303796193, 0.19404108491208819, 0.18449972049584465, 0.16942154580638522, 0.16504752068292528, 0.15703796323329683, 0.15385001850506616, 0.14695220038531318, 0.14519832164995253]\n"
          ]
        }
      ]
    },
    {
      "cell_type": "code",
      "source": [
        "plt.plot([1,2,3,4,5,6,7,8,9, 10], total_loss)\n",
        "plt.xlabel(\"Epochs\")\n",
        "plt.ylabel(\"Training Loss\")\n",
        "plt.title(\"Training Loss for GPT2 Decision Transformer\")\n",
        "\n",
        "plt.show()"
      ],
      "metadata": {
        "colab": {
          "base_uri": "https://localhost:8080/",
          "height": 472
        },
        "id": "mFZHxg7OMg52",
        "outputId": "c3d01cce-222b-4d35-b95d-e11a6dc082a5"
      },
      "execution_count": 29,
      "outputs": [
        {
          "output_type": "display_data",
          "data": {
            "text/plain": [
              "<Figure size 640x480 with 1 Axes>"
            ],
            "image/png": "[encoded data removed]"
          },
          "metadata": {}
        }
      ]
    },
    {
      "cell_type": "code",
      "source": [
        "# Eval model\n",
        "\n",
        "model.eval()\n",
        "env.reset()\n",
        "\n",
        "cumilative_reward = []\n",
        "target = -20\n",
        "\n",
        "total_reward = 0\n",
        "\n",
        "states = torch.zeros((0, state_dim)).float()\n",
        "actions = torch.zeros((0, act_dim)).float()\n",
        "rewards = torch.zeros(0).float()\n",
        "timesteps = torch.tensor(0, dtype=torch.long).reshape(1, 1)\n",
        "\n",
        "\n",
        "\n",
        "for i in range(MAX_EP_LEN):\n",
        "\n",
        "  actions = torch.cat([actions, torch.zeros((1, act_dim))], dim=0)\n",
        "  rewards = torch.cat([rewards, torch.zeros(1)])\n",
        "\n",
        "  target_return = torch.tensor(total_reward + target, dtype=torch.float32).reshape(1, 1)\n",
        "\n",
        "  # get action prediction\n",
        "  action = model.get_action(\n",
        "            states=states,\n",
        "            actions=actions.to(dtype=torch.float32),\n",
        "            rewards=rewards.to(dtype=torch.float32),\n",
        "            returns_to_go=target_return.to(dtype=torch.float32),\n",
        "            timesteps=timesteps.to(dtype=torch.long),\n",
        "        )\n",
        "\n",
        "\n",
        "  # update actions\n",
        "  actions[-1] = action\n",
        "\n",
        "  # update run action\n",
        "  state, reward, done, _ = env.step(action.detach().numpy())\n",
        "\n",
        "\n",
        "\n",
        "\n",
        "  # update states\n",
        "  cur_state = torch.from_numpy(state).reshape(1, state_dim)\n",
        "  states = torch.cat([states, cur_state], dim=0)\n",
        "\n",
        "  # update rewards\n",
        "  rewards[-1] = reward\n",
        "\n",
        "  # update timesteps\n",
        "  timesteps = torch.cat([timesteps, torch.ones((1, 1)) * (i)], dim=1)\n",
        "\n",
        "\n",
        "  # print(total_reward)\n",
        "  total_reward += reward\n",
        "  cumilative_reward.append(total_reward)\n",
        "\n"
      ],
      "metadata": {
        "id": "GFcns4QS0hiG"
      },
      "execution_count": null,
      "outputs": []
    },
    {
      "cell_type": "code",
      "source": [
        "cumilative_reward[0]"
      ],
      "metadata": {
        "colab": {
          "base_uri": "https://localhost:8080/"
        },
        "id": "2tKsWuIPpUNn",
        "outputId": "f96888dd-9c9c-4e2a-d515-8f7d220fc9f9"
      },
      "execution_count": 36,
      "outputs": [
        {
          "output_type": "stream",
          "name": "stderr",
          "text": [
            "/usr/local/lib/python3.10/dist-packages/ipykernel/ipkernel.py:283: DeprecationWarning: `should_run_async` will not call `transform_cell` automatically in the future. Please pass the result to `transformed_cell` argument and any exception that happen during thetransform in `preprocessing_exc_tuple` in IPython 7.17 and above.\n",
            "  and should_run_async(code)\n"
          ]
        },
        {
          "output_type": "execute_result",
          "data": {
            "text/plain": [
              "0.02755723555714293"
            ]
          },
          "metadata": {},
          "execution_count": 36
        }
      ]
    },
    {
      "cell_type": "code",
      "source": [
        "plt.plot(list(range(MAX_EP_LEN)), cumilative_reward)\n",
        "plt.xlabel(\"Steps\")\n",
        "plt.ylabel(\"Reward\")\n",
        "plt.title(\"Reward per Step GPT2 Decision Transformer\")\n",
        "\n",
        "plt.show()"
      ],
      "metadata": {
        "colab": {
          "base_uri": "https://localhost:8080/",
          "height": 472
        },
        "id": "bQ1ee_Nao-HT",
        "outputId": "f99dd5e6-3cd7-4370-8bfa-c0b2758021b6"
      },
      "execution_count": 42,
      "outputs": [
        {
          "output_type": "display_data",
          "data": {
            "text/plain": [
              "<Figure size 640x480 with 1 Axes>"
            ],
            "image/png": "[encoded data removed]"
          },
          "metadata": {}
        }
      ]
    },
    {
      "cell_type": "code",
      "source": [
        "action_preds.shape"
      ],
      "metadata": {
        "colab": {
          "base_uri": "https://localhost:8080/"
        },
        "id": "oai5fTDIc9Ye",
        "outputId": "67fb8643-5de3-4683-cefc-494a374774aa"
      },
      "execution_count": 121,
      "outputs": [
        {
          "output_type": "stream",
          "name": "stderr",
          "text": [
            "/usr/local/lib/python3.10/dist-packages/ipykernel/ipkernel.py:283: DeprecationWarning: `should_run_async` will not call `transform_cell` automatically in the future. Please pass the result to `transformed_cell` argument and any exception that happen during thetransform in `preprocessing_exc_tuple` in IPython 7.17 and above.\n",
            "  and should_run_async(code)\n"
          ]
        },
        {
          "output_type": "execute_result",
          "data": {
            "text/plain": [
              "torch.Size([16, 32, 6])"
            ]
          },
          "metadata": {},
          "execution_count": 121
        }
      ]
    },
    {
      "cell_type": "code",
      "source": [
        "# BERT MODEL\n",
        "\n",
        "\n",
        "class BertDecisionTransformer(nn.Module):\n",
        "  def __init__(self, state_dim, act_dim, hidden_size=HIDDEN_SIZE, max_length=MAX_LEN, max_episode_len=MAX_EP_LEN, **kwargs):\n",
        "    super().__init__()\n",
        "\n",
        "    self.state_dim = state_dim\n",
        "    self.act_dim = act_dim\n",
        "    self.max_length = max_length\n",
        "    self.hidden_size = hidden_size\n",
        "\n",
        "    config = transformers.BertConfig(\n",
        "        vocab_size=1,  # doesn't matter -- we don't use the vocab\n",
        "        hidden_size=hidden_size,\n",
        "        num_attention_heads = 4,\n",
        "        num_hidden_layers = 4,\n",
        "        intermediate_size = 1024,\n",
        "        **kwargs,\n",
        "    )\n",
        "\n",
        "    self.transformer = transformers.BertModel(config)\n",
        "\n",
        "    # self.transformer.token_type_embeddings = ZeroLayer(self.max_length, self.hidden_size)\n",
        "\n",
        "\n",
        "    self.embed_timestep = nn.Embedding(max_episode_len, hidden_size)\n",
        "    self.embed_return = torch.nn.Linear(1, hidden_size)\n",
        "    self.embed_state = torch.nn.Linear(self.state_dim, hidden_size)\n",
        "    self.embed_action = torch.nn.Linear(self.act_dim, hidden_size)\n",
        "\n",
        "    self.embed_ln = nn.LayerNorm(hidden_size)\n",
        "\n",
        "    self.predict_state = torch.nn.Linear(hidden_size, self.state_dim)\n",
        "    self.predict_action = nn.Sequential(\n",
        "        *([nn.Linear(hidden_size, self.act_dim)] + [nn.Tanh()])\n",
        "    )\n",
        "    self.predict_return = torch.nn.Linear(hidden_size, 1)\n",
        "\n",
        "\n",
        "\n",
        "\n",
        "  def forward(self, timesteps, states, actions, rewards, rewards_to_go, masks=None, attention_mask=None):\n",
        "    # \"masked\" tokens or unspecified inputs can be passed in as None\n",
        "    # self.transformer.wpe = ZeroLayer(self.max_length, self.hidden_size)\n",
        "\n",
        "    batch_size, seq_length = states.shape[0], states.shape[1]\n",
        "\n",
        "    if attention_mask is None: attention_mask = torch.ones((batch_size, seq_length), dtype=torch.long)\n",
        "\n",
        "\n",
        "     # embed each modality with a different head\n",
        "    state_embeddings = self.embed_state(states)\n",
        "\n",
        "    action_embeddings = self.embed_action(actions)\n",
        "\n",
        "    rewards_to_go_embeddings = self.embed_return(rewards_to_go)\n",
        "\n",
        "    time_embeddings = self.embed_timestep(timesteps)\n",
        "\n",
        "\n",
        "\n",
        "\n",
        "    # time embeddings are treated similar to positional embeddings\n",
        "    state_embeddings = state_embeddings + time_embeddings\n",
        "    action_embeddings = action_embeddings + time_embeddings\n",
        "    rewards_to_go_embeddings = rewards_to_go_embeddings + time_embeddings\n",
        "\n",
        "\n",
        "\n",
        "    # this makes the sequence look like (R_1, s_1, a_1, R_2, s_2, a_2, ...)\n",
        "    # which works nice in an autoregressive sense since states predict actions\n",
        "    stacked_inputs = torch.stack(\n",
        "        (rewards_to_go_embeddings, state_embeddings, action_embeddings), dim=1\n",
        "    ).permute(0, 2, 1, 3).reshape(batch_size, 3*seq_length, self.hidden_size)\n",
        "    stacked_inputs = self.embed_ln(stacked_inputs)\n",
        "\n",
        "\n",
        "    # to make the attention mask fit the stacked inputs, have to stack it as well\n",
        "    stacked_attention_mask = torch.stack(\n",
        "        (attention_mask, attention_mask, attention_mask), dim=1\n",
        "    ).permute(0, 2, 1).reshape(batch_size, 3*seq_length)\n",
        "\n",
        "\n",
        "\n",
        "    # we feed in the input embeddings (not word indices as in NLP) to the model\n",
        "    transformer_outputs = self.transformer(\n",
        "        inputs_embeds=stacked_inputs,\n",
        "        attention_mask=stacked_attention_mask,\n",
        "    )\n",
        "    x = transformer_outputs['last_hidden_state']\n",
        "\n",
        "    # reshape x so that the second dimension corresponds to the original\n",
        "    # returns (0), states (1), or actions (2); i.e. x[:,1,t] is the token for s_t\n",
        "    x = x.reshape(batch_size, seq_length, 3, self.hidden_size).permute(0, 2, 1, 3)\n",
        "\n",
        "    # get predictions\n",
        "    return_preds = self.predict_return(x[:,2])  # predict next return given state and action\n",
        "    state_preds = self.predict_state(x[:,2])    # predict next state given state and action\n",
        "    action_preds = self.predict_action(x[:,1])  # predict next action given state\n",
        "\n",
        "    return state_preds, action_preds, return_preds\n",
        "\n",
        "  def get_action(self, states, actions, rewards, returns_to_go, timesteps, **kwargs):\n",
        "\n",
        "    # we don't care about the past rewards in this model\n",
        "\n",
        "    states = states.reshape(1, -1, self.state_dim)\n",
        "    actions = actions.reshape(1, -1, self.act_dim)\n",
        "    returns_to_go = returns_to_go.reshape(1, -1, 1)\n",
        "    timesteps = timesteps.reshape(1, -1)\n",
        "\n",
        "\n",
        "\n",
        "    if self.max_length is not None:\n",
        "\n",
        "        states = states[:,-self.max_length:]\n",
        "        actions = actions[:,-self.max_length:]\n",
        "        returns_to_go = returns_to_go[:,-self.max_length:]\n",
        "        timesteps = timesteps[:,-self.max_length:]\n",
        "\n",
        "\n",
        "        # pad all tokens to sequence length\n",
        "        attention_mask = torch.cat([torch.zeros(self.max_length-states.shape[1]), torch.ones(states.shape[1])])\n",
        "        attention_mask = attention_mask.to(dtype=torch.long, device=states.device).reshape(1, -1)\n",
        "\n",
        "        states = torch.cat(\n",
        "            [torch.zeros((states.shape[0], self.max_length-states.shape[1], self.state_dim), device=states.device), states],\n",
        "            dim=1).to(dtype=torch.float32)\n",
        "        actions = torch.cat(\n",
        "            [torch.zeros((actions.shape[0], self.max_length - actions.shape[1], self.act_dim),\n",
        "                        device=actions.device), actions],\n",
        "            dim=1).to(dtype=torch.float32)\n",
        "\n",
        "        returns_to_go = torch.cat(\n",
        "            [torch.zeros((returns_to_go.shape[0], self.max_length-returns_to_go.shape[1], 1), device=returns_to_go.device), returns_to_go],\n",
        "            dim=1).to(dtype=torch.float32)\n",
        "\n",
        "        timesteps = torch.cat(\n",
        "            [torch.zeros((timesteps.shape[0], self.max_length-timesteps.shape[1]), device=timesteps.device), timesteps],\n",
        "            dim=1\n",
        "        ).to(dtype=torch.long)\n",
        "\n",
        "    else:\n",
        "        attention_mask = None\n",
        "    # self, timesteps, states, actions, rewards, rewards_to_go, masks=None, attention_mask=None\n",
        "    _, action_preds, return_preds = self.forward(\n",
        "        states = states, actions = actions, rewards = None, rewards_to_go = returns_to_go, timesteps = timesteps, attention_mask=attention_mask, **kwargs)\n",
        "    return action_preds[0,-1]\n",
        "\n",
        "Bert_model = BertDecisionTransformer(\n",
        "            state_dim=state_dim,\n",
        "            act_dim=act_dim,\n",
        "            max_length=MAX_LEN,\n",
        "            max_ep_len=MAX_EP_LEN,\n",
        "            hidden_size=128,\n",
        "            n_layer=3,\n",
        "            n_head=1,\n",
        "            n_inner=4*128,\n",
        "            activation_function='relu',\n",
        "            n_positions=1024,\n",
        "            resid_pdrop=0.1,\n",
        "            attn_pdrop=0.1,\n",
        "        )"
      ],
      "metadata": {
        "id": "inASEeFaqPFk"
      },
      "execution_count": 57,
      "outputs": []
    },
    {
      "cell_type": "code",
      "source": [
        "print(Bert_model)"
      ],
      "metadata": {
        "colab": {
          "base_uri": "https://localhost:8080/"
        },
        "id": "KU7iIHHvqPCz",
        "outputId": "01e975ef-f7d2-4887-f4bb-4b794c8d1f9d"
      },
      "execution_count": 55,
      "outputs": [
        {
          "output_type": "stream",
          "name": "stdout",
          "text": [
            "BertDecisionTransformer(\n",
            "  (transformer): BertModel(\n",
            "    (embeddings): BertEmbeddings(\n",
            "      (word_embeddings): Embedding(1, 128, padding_idx=0)\n",
            "      (position_embeddings): Embedding(512, 128)\n",
            "      (token_type_embeddings): Embedding(2, 128)\n",
            "      (LayerNorm): LayerNorm((128,), eps=1e-12, elementwise_affine=True)\n",
            "      (dropout): Dropout(p=0.1, inplace=False)\n",
            "    )\n",
            "    (encoder): BertEncoder(\n",
            "      (layer): ModuleList(\n",
            "        (0-3): 4 x BertLayer(\n",
            "          (attention): BertAttention(\n",
            "            (self): BertSelfAttention(\n",
            "              (query): Linear(in_features=128, out_features=128, bias=True)\n",
            "              (key): Linear(in_features=128, out_features=128, bias=True)\n",
            "              (value): Linear(in_features=128, out_features=128, bias=True)\n",
            "              (dropout): Dropout(p=0.1, inplace=False)\n",
            "            )\n",
            "            (output): BertSelfOutput(\n",
            "              (dense): Linear(in_features=128, out_features=128, bias=True)\n",
            "              (LayerNorm): LayerNorm((128,), eps=1e-12, elementwise_affine=True)\n",
            "              (dropout): Dropout(p=0.1, inplace=False)\n",
            "            )\n",
            "          )\n",
            "          (intermediate): BertIntermediate(\n",
            "            (dense): Linear(in_features=128, out_features=1024, bias=True)\n",
            "            (intermediate_act_fn): GELUActivation()\n",
            "          )\n",
            "          (output): BertOutput(\n",
            "            (dense): Linear(in_features=1024, out_features=128, bias=True)\n",
            "            (LayerNorm): LayerNorm((128,), eps=1e-12, elementwise_affine=True)\n",
            "            (dropout): Dropout(p=0.1, inplace=False)\n",
            "          )\n",
            "        )\n",
            "      )\n",
            "    )\n",
            "    (pooler): BertPooler(\n",
            "      (dense): Linear(in_features=128, out_features=128, bias=True)\n",
            "      (activation): Tanh()\n",
            "    )\n",
            "  )\n",
            "  (embed_timestep): Embedding(1000, 128)\n",
            "  (embed_return): Linear(in_features=1, out_features=128, bias=True)\n",
            "  (embed_state): Linear(in_features=17, out_features=128, bias=True)\n",
            "  (embed_action): Linear(in_features=6, out_features=128, bias=True)\n",
            "  (embed_ln): LayerNorm((128,), eps=1e-05, elementwise_affine=True)\n",
            "  (predict_state): Linear(in_features=128, out_features=17, bias=True)\n",
            "  (predict_action): Sequential(\n",
            "    (0): Linear(in_features=128, out_features=6, bias=True)\n",
            "    (1): Tanh()\n",
            "  )\n",
            "  (predict_return): Linear(in_features=128, out_features=1, bias=True)\n",
            ")\n"
          ]
        }
      ]
    },
    {
      "cell_type": "code",
      "source": [
        "Bert_model.train()\n",
        "bert_total_loss = []\n",
        "\n",
        "\n",
        "bert_optimizer = torch.optim.AdamW(Bert_model.parameters(), lr=1e-4, weight_decay=1e-4)\n",
        "\n",
        "for e in range(EPOCHS):\n",
        "  epoch_loss = 0\n",
        "  # epoch_acc = 0\n",
        "  batch_count = 0\n",
        "\n",
        "  for timesteps, observations, actions, rewards, rewards_to_go, dones in dataloader:\n",
        "    batch_count += 1\n",
        "    action_target = actions.clone()\n",
        "\n",
        "    state_preds, action_preds, reward_preds = Bert_model.forward( timesteps, observations, actions, rewards, rewards_to_go, attention_mask=None )\n",
        "\n",
        "    action_preds = action_preds.reshape(-1, act_dim)\n",
        "    action_target = action_target.reshape(-1, act_dim)\n",
        "\n",
        "    loss = action_loss(action_preds, action_target)\n",
        "\n",
        "    bert_optimizer.zero_grad()\n",
        "    loss.backward()\n",
        "    torch.nn.utils.clip_grad_norm_(Bert_model.parameters(), .25)\n",
        "    bert_optimizer.step()\n",
        "\n",
        "\n",
        "    with torch.no_grad():\n",
        "      epoch_loss += torch.mean((action_preds-action_target)**2).detach().cpu().item()\n",
        "\n",
        "  bert_total_loss.append(epoch_loss / batch_count)\n",
        "\n",
        "  print(e)\n",
        "\n",
        "print(bert_total_loss)\n"
      ],
      "metadata": {
        "colab": {
          "base_uri": "https://localhost:8080/"
        },
        "id": "1Kj15kiCqO_3",
        "outputId": "aa97d719-b311-4503-a8d9-b9336b2cb4f7"
      },
      "execution_count": 58,
      "outputs": [
        {
          "output_type": "stream",
          "name": "stdout",
          "text": [
            "0\n",
            "1\n",
            "2\n",
            "3\n",
            "4\n",
            "5\n",
            "6\n",
            "7\n",
            "8\n",
            "9\n",
            "[0.3392858585667989, 0.2119657120534352, 0.19356209370825025, 0.17573048339949715, 0.1711715871379489, 0.16342443984652322, 0.1552450449930297, 0.15251021725790842, 0.14597886706155444, 0.14507393621736103]\n"
          ]
        }
      ]
    },
    {
      "cell_type": "code",
      "source": [
        "plt.plot([1,2,3,4,5,6,7,8,9, 10], bert_total_loss)\n",
        "plt.xlabel(\"Epochs\")\n",
        "plt.ylabel(\"Training Loss\")\n",
        "plt.title(\"Training Loss for BERT Decision Transformer\")\n",
        "\n",
        "plt.show()"
      ],
      "metadata": {
        "colab": {
          "base_uri": "https://localhost:8080/",
          "height": 472
        },
        "id": "NlM3VRfZxVQr",
        "outputId": "3a4a1616-d4ab-427e-ed6d-c2743427694b"
      },
      "execution_count": 65,
      "outputs": [
        {
          "output_type": "display_data",
          "data": {
            "text/plain": [
              "<Figure size 640x480 with 1 Axes>"
            ],
            "image/png": "[encoded data removed]"
          },
          "metadata": {}
        }
      ]
    },
    {
      "cell_type": "code",
      "source": [
        "# Eval model\n",
        "\n",
        "Bert_model.eval()\n",
        "env.reset()\n",
        "\n",
        "bert_cumilative_reward = []\n",
        "target = -20\n",
        "\n",
        "bert_total_reward = 0\n",
        "\n",
        "states = torch.zeros((0, state_dim)).float()\n",
        "actions = torch.zeros((0, act_dim)).float()\n",
        "rewards = torch.zeros(0).float()\n",
        "timesteps = torch.tensor(0, dtype=torch.long).reshape(1, 1)\n",
        "\n",
        "\n",
        "\n",
        "for i in range(MAX_EP_LEN):\n",
        "\n",
        "  actions = torch.cat([actions, torch.zeros((1, act_dim))], dim=0)\n",
        "  rewards = torch.cat([rewards, torch.zeros(1)])\n",
        "\n",
        "  target_return = torch.tensor(total_reward + target, dtype=torch.float32).reshape(1, 1)\n",
        "\n",
        "  # get action prediction\n",
        "  action = Bert_model.get_action(\n",
        "            states=states,\n",
        "            actions=actions.to(dtype=torch.float32),\n",
        "            rewards=rewards.to(dtype=torch.float32),\n",
        "            returns_to_go=target_return.to(dtype=torch.float32),\n",
        "            timesteps=timesteps.to(dtype=torch.long),\n",
        "        )\n",
        "\n",
        "\n",
        "  # update actions\n",
        "  actions[-1] = action\n",
        "\n",
        "  # update run action\n",
        "  state, reward, done, _ = env.step(action.detach().numpy())\n",
        "\n",
        "\n",
        "\n",
        "\n",
        "  # update states\n",
        "  cur_state = torch.from_numpy(state).reshape(1, state_dim)\n",
        "  states = torch.cat([states, cur_state], dim=0)\n",
        "\n",
        "  # update rewards\n",
        "  rewards[-1] = reward\n",
        "\n",
        "  # update timesteps\n",
        "  timesteps = torch.cat([timesteps, torch.ones((1, 1)) * (i)], dim=1)\n",
        "\n",
        "\n",
        "  # print(total_reward)\n",
        "  bert_total_reward += reward\n",
        "  bert_cumilative_reward.append(bert_total_reward)"
      ],
      "metadata": {
        "id": "H3T6NpiW08NX"
      },
      "execution_count": 63,
      "outputs": []
    },
    {
      "cell_type": "code",
      "source": [
        "plt.plot(list(range(MAX_EP_LEN)), bert_cumilative_reward)\n",
        "plt.xlabel(\"Steps\")\n",
        "plt.ylabel(\"Reward\")\n",
        "plt.title(\"Reward per Step Bert Decision Transformer\")\n",
        "\n",
        "plt.show()"
      ],
      "metadata": {
        "colab": {
          "base_uri": "https://localhost:8080/",
          "height": 472
        },
        "id": "izkbgeqe16x-",
        "outputId": "920b00cd-8a1e-4fd9-bd1c-d546f1fc717e"
      },
      "execution_count": 64,
      "outputs": [
        {
          "output_type": "display_data",
          "data": {
            "text/plain": [
              "<Figure size 640x480 with 1 Axes>"
            ],
            "image/png": "[encoded data removed]"
          },
          "metadata": {}
        }
      ]
    },
    {
      "cell_type": "code",
      "source": [
        "print(sum(p.numel() for p in model.parameters()))\n"
      ],
      "metadata": {
        "colab": {
          "base_uri": "https://localhost:8080/"
        },
        "id": "B-y6MSPp2CJn",
        "outputId": "f88836b5-89bd-41c6-fb8c-a2f2cbfbf5f1"
      },
      "execution_count": 66,
      "outputs": [
        {
          "output_type": "stream",
          "name": "stdout",
          "text": [
            "730008\n"
          ]
        },
        {
          "output_type": "stream",
          "name": "stderr",
          "text": [
            "/usr/local/lib/python3.10/dist-packages/ipykernel/ipkernel.py:283: DeprecationWarning: `should_run_async` will not call `transform_cell` automatically in the future. Please pass the result to `transformed_cell` argument and any exception that happen during thetransform in `preprocessing_exc_tuple` in IPython 7.17 and above.\n",
            "  and should_run_async(code)\n"
          ]
        }
      ]
    },
    {
      "cell_type": "code",
      "source": [
        "print(sum(p.numel() for p in Bert_model.parameters()))\n"
      ],
      "metadata": {
        "colab": {
          "base_uri": "https://localhost:8080/"
        },
        "id": "4nlrNRFE5SE0",
        "outputId": "a898722f-6bcf-4a91-97ec-b8be8ad496f0"
      },
      "execution_count": 67,
      "outputs": [
        {
          "output_type": "stream",
          "name": "stdout",
          "text": [
            "1536920\n"
          ]
        },
        {
          "output_type": "stream",
          "name": "stderr",
          "text": [
            "/usr/local/lib/python3.10/dist-packages/ipykernel/ipkernel.py:283: DeprecationWarning: `should_run_async` will not call `transform_cell` automatically in the future. Please pass the result to `transformed_cell` argument and any exception that happen during thetransform in `preprocessing_exc_tuple` in IPython 7.17 and above.\n",
            "  and should_run_async(code)\n"
          ]
        }
      ]
    },
    {
      "cell_type": "code",
      "source": [
        "print(np.max(cumilative_reward))"
      ],
      "metadata": {
        "colab": {
          "base_uri": "https://localhost:8080/"
        },
        "id": "NIzUPTex7oTt",
        "outputId": "c3f768e6-ed93-410b-fa80-1e482127650f"
      },
      "execution_count": 69,
      "outputs": [
        {
          "output_type": "stream",
          "name": "stdout",
          "text": [
            "156.2553421993189\n"
          ]
        }
      ]
    },
    {
      "cell_type": "code",
      "source": [
        "print(np.max(bert_cumilative_reward))"
      ],
      "metadata": {
        "colab": {
          "base_uri": "https://localhost:8080/"
        },
        "id": "FGmvVie-7vyP",
        "outputId": "c865c0f0-5de5-470f-d5a5-784a343ade75"
      },
      "execution_count": 70,
      "outputs": [
        {
          "output_type": "stream",
          "name": "stdout",
          "text": [
            "391.46459168242365\n"
          ]
        }
      ]
    }
  ]
}